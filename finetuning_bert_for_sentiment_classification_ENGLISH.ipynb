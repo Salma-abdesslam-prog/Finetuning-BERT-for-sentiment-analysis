{
  "metadata": {
    "kernelspec": {
      "name": "python3",
      "display_name": "Python 3",
      "language": "python"
    },
    "language_info": {
      "name": "python",
      "version": "3.10.14",
      "mimetype": "text/x-python",
      "codemirror_mode": {
        "name": "ipython",
        "version": 3
      },
      "pygments_lexer": "ipython3",
      "nbconvert_exporter": "python",
      "file_extension": ".py"
    },
    "colab": {
      "provenance": [],
      "gpuType": "T4"
    },
    "accelerator": "GPU",
    "kaggle": {
      "accelerator": "nvidiaTeslaT4",
      "dataSources": [],
      "dockerImageVersionId": 30787,
      "isInternetEnabled": true,
      "language": "python",
      "sourceType": "notebook",
      "isGpuEnabled": true
    },
    "widgets": {
      "application/vnd.jupyter.widget-state+json": {
        "47c70445d5df4d93bb351ec6e551cf0c": {
          "model_module": "@jupyter-widgets/controls",
          "model_name": "HBoxModel",
          "model_module_version": "1.5.0",
          "state": {
            "_dom_classes": [],
            "_model_module": "@jupyter-widgets/controls",
            "_model_module_version": "1.5.0",
            "_model_name": "HBoxModel",
            "_view_count": null,
            "_view_module": "@jupyter-widgets/controls",
            "_view_module_version": "1.5.0",
            "_view_name": "HBoxView",
            "box_style": "",
            "children": [
              "IPY_MODEL_a5d0b9dbd0714daf83e6cb3fdb62d7fb",
              "IPY_MODEL_3cdec68988024464850b66377d260300",
              "IPY_MODEL_5e917afc07d6423a8b316caff74aaa65"
            ],
            "layout": "IPY_MODEL_a16bfc25b4c046cb8d718713475f0245"
          }
        },
        "a5d0b9dbd0714daf83e6cb3fdb62d7fb": {
          "model_module": "@jupyter-widgets/controls",
          "model_name": "HTMLModel",
          "model_module_version": "1.5.0",
          "state": {
            "_dom_classes": [],
            "_model_module": "@jupyter-widgets/controls",
            "_model_module_version": "1.5.0",
            "_model_name": "HTMLModel",
            "_view_count": null,
            "_view_module": "@jupyter-widgets/controls",
            "_view_module_version": "1.5.0",
            "_view_name": "HTMLView",
            "description": "",
            "description_tooltip": null,
            "layout": "IPY_MODEL_a0cddc1d011c44e0bea7b236f2f6c7f4",
            "placeholder": "​",
            "style": "IPY_MODEL_358bed242953482dba6c4ad16c700220",
            "value": "README.md: 100%"
          }
        },
        "3cdec68988024464850b66377d260300": {
          "model_module": "@jupyter-widgets/controls",
          "model_name": "FloatProgressModel",
          "model_module_version": "1.5.0",
          "state": {
            "_dom_classes": [],
            "_model_module": "@jupyter-widgets/controls",
            "_model_module_version": "1.5.0",
            "_model_name": "FloatProgressModel",
            "_view_count": null,
            "_view_module": "@jupyter-widgets/controls",
            "_view_module_version": "1.5.0",
            "_view_name": "ProgressView",
            "bar_style": "success",
            "description": "",
            "description_tooltip": null,
            "layout": "IPY_MODEL_b00024bd671a4e42b8543cfba02e3bdf",
            "max": 7809,
            "min": 0,
            "orientation": "horizontal",
            "style": "IPY_MODEL_e932ae76973448a18e8e11231953d1e9",
            "value": 7809
          }
        },
        "5e917afc07d6423a8b316caff74aaa65": {
          "model_module": "@jupyter-widgets/controls",
          "model_name": "HTMLModel",
          "model_module_version": "1.5.0",
          "state": {
            "_dom_classes": [],
            "_model_module": "@jupyter-widgets/controls",
            "_model_module_version": "1.5.0",
            "_model_name": "HTMLModel",
            "_view_count": null,
            "_view_module": "@jupyter-widgets/controls",
            "_view_module_version": "1.5.0",
            "_view_name": "HTMLView",
            "description": "",
            "description_tooltip": null,
            "layout": "IPY_MODEL_99fbfd80336d459c840b7e4a81da597a",
            "placeholder": "​",
            "style": "IPY_MODEL_027f26bb7a1d41f08a855c9edd6f5d13",
            "value": " 7.81k/7.81k [00:00&lt;00:00, 243kB/s]"
          }
        },
        "a16bfc25b4c046cb8d718713475f0245": {
          "model_module": "@jupyter-widgets/base",
          "model_name": "LayoutModel",
          "model_module_version": "1.2.0",
          "state": {
            "_model_module": "@jupyter-widgets/base",
            "_model_module_version": "1.2.0",
            "_model_name": "LayoutModel",
            "_view_count": null,
            "_view_module": "@jupyter-widgets/base",
            "_view_module_version": "1.2.0",
            "_view_name": "LayoutView",
            "align_content": null,
            "align_items": null,
            "align_self": null,
            "border": null,
            "bottom": null,
            "display": null,
            "flex": null,
            "flex_flow": null,
            "grid_area": null,
            "grid_auto_columns": null,
            "grid_auto_flow": null,
            "grid_auto_rows": null,
            "grid_column": null,
            "grid_gap": null,
            "grid_row": null,
            "grid_template_areas": null,
            "grid_template_columns": null,
            "grid_template_rows": null,
            "height": null,
            "justify_content": null,
            "justify_items": null,
            "left": null,
            "margin": null,
            "max_height": null,
            "max_width": null,
            "min_height": null,
            "min_width": null,
            "object_fit": null,
            "object_position": null,
            "order": null,
            "overflow": null,
            "overflow_x": null,
            "overflow_y": null,
            "padding": null,
            "right": null,
            "top": null,
            "visibility": null,
            "width": null
          }
        },
        "a0cddc1d011c44e0bea7b236f2f6c7f4": {
          "model_module": "@jupyter-widgets/base",
          "model_name": "LayoutModel",
          "model_module_version": "1.2.0",
          "state": {
            "_model_module": "@jupyter-widgets/base",
            "_model_module_version": "1.2.0",
            "_model_name": "LayoutModel",
            "_view_count": null,
            "_view_module": "@jupyter-widgets/base",
            "_view_module_version": "1.2.0",
            "_view_name": "LayoutView",
            "align_content": null,
            "align_items": null,
            "align_self": null,
            "border": null,
            "bottom": null,
            "display": null,
            "flex": null,
            "flex_flow": null,
            "grid_area": null,
            "grid_auto_columns": null,
            "grid_auto_flow": null,
            "grid_auto_rows": null,
            "grid_column": null,
            "grid_gap": null,
            "grid_row": null,
            "grid_template_areas": null,
            "grid_template_columns": null,
            "grid_template_rows": null,
            "height": null,
            "justify_content": null,
            "justify_items": null,
            "left": null,
            "margin": null,
            "max_height": null,
            "max_width": null,
            "min_height": null,
            "min_width": null,
            "object_fit": null,
            "object_position": null,
            "order": null,
            "overflow": null,
            "overflow_x": null,
            "overflow_y": null,
            "padding": null,
            "right": null,
            "top": null,
            "visibility": null,
            "width": null
          }
        },
        "358bed242953482dba6c4ad16c700220": {
          "model_module": "@jupyter-widgets/controls",
          "model_name": "DescriptionStyleModel",
          "model_module_version": "1.5.0",
          "state": {
            "_model_module": "@jupyter-widgets/controls",
            "_model_module_version": "1.5.0",
            "_model_name": "DescriptionStyleModel",
            "_view_count": null,
            "_view_module": "@jupyter-widgets/base",
            "_view_module_version": "1.2.0",
            "_view_name": "StyleView",
            "description_width": ""
          }
        },
        "b00024bd671a4e42b8543cfba02e3bdf": {
          "model_module": "@jupyter-widgets/base",
          "model_name": "LayoutModel",
          "model_module_version": "1.2.0",
          "state": {
            "_model_module": "@jupyter-widgets/base",
            "_model_module_version": "1.2.0",
            "_model_name": "LayoutModel",
            "_view_count": null,
            "_view_module": "@jupyter-widgets/base",
            "_view_module_version": "1.2.0",
            "_view_name": "LayoutView",
            "align_content": null,
            "align_items": null,
            "align_self": null,
            "border": null,
            "bottom": null,
            "display": null,
            "flex": null,
            "flex_flow": null,
            "grid_area": null,
            "grid_auto_columns": null,
            "grid_auto_flow": null,
            "grid_auto_rows": null,
            "grid_column": null,
            "grid_gap": null,
            "grid_row": null,
            "grid_template_areas": null,
            "grid_template_columns": null,
            "grid_template_rows": null,
            "height": null,
            "justify_content": null,
            "justify_items": null,
            "left": null,
            "margin": null,
            "max_height": null,
            "max_width": null,
            "min_height": null,
            "min_width": null,
            "object_fit": null,
            "object_position": null,
            "order": null,
            "overflow": null,
            "overflow_x": null,
            "overflow_y": null,
            "padding": null,
            "right": null,
            "top": null,
            "visibility": null,
            "width": null
          }
        },
        "e932ae76973448a18e8e11231953d1e9": {
          "model_module": "@jupyter-widgets/controls",
          "model_name": "ProgressStyleModel",
          "model_module_version": "1.5.0",
          "state": {
            "_model_module": "@jupyter-widgets/controls",
            "_model_module_version": "1.5.0",
            "_model_name": "ProgressStyleModel",
            "_view_count": null,
            "_view_module": "@jupyter-widgets/base",
            "_view_module_version": "1.2.0",
            "_view_name": "StyleView",
            "bar_color": null,
            "description_width": ""
          }
        },
        "99fbfd80336d459c840b7e4a81da597a": {
          "model_module": "@jupyter-widgets/base",
          "model_name": "LayoutModel",
          "model_module_version": "1.2.0",
          "state": {
            "_model_module": "@jupyter-widgets/base",
            "_model_module_version": "1.2.0",
            "_model_name": "LayoutModel",
            "_view_count": null,
            "_view_module": "@jupyter-widgets/base",
            "_view_module_version": "1.2.0",
            "_view_name": "LayoutView",
            "align_content": null,
            "align_items": null,
            "align_self": null,
            "border": null,
            "bottom": null,
            "display": null,
            "flex": null,
            "flex_flow": null,
            "grid_area": null,
            "grid_auto_columns": null,
            "grid_auto_flow": null,
            "grid_auto_rows": null,
            "grid_column": null,
            "grid_gap": null,
            "grid_row": null,
            "grid_template_areas": null,
            "grid_template_columns": null,
            "grid_template_rows": null,
            "height": null,
            "justify_content": null,
            "justify_items": null,
            "left": null,
            "margin": null,
            "max_height": null,
            "max_width": null,
            "min_height": null,
            "min_width": null,
            "object_fit": null,
            "object_position": null,
            "order": null,
            "overflow": null,
            "overflow_x": null,
            "overflow_y": null,
            "padding": null,
            "right": null,
            "top": null,
            "visibility": null,
            "width": null
          }
        },
        "027f26bb7a1d41f08a855c9edd6f5d13": {
          "model_module": "@jupyter-widgets/controls",
          "model_name": "DescriptionStyleModel",
          "model_module_version": "1.5.0",
          "state": {
            "_model_module": "@jupyter-widgets/controls",
            "_model_module_version": "1.5.0",
            "_model_name": "DescriptionStyleModel",
            "_view_count": null,
            "_view_module": "@jupyter-widgets/base",
            "_view_module_version": "1.2.0",
            "_view_name": "StyleView",
            "description_width": ""
          }
        },
        "8fc10b53c63641b9947d6c00f572d923": {
          "model_module": "@jupyter-widgets/controls",
          "model_name": "HBoxModel",
          "model_module_version": "1.5.0",
          "state": {
            "_dom_classes": [],
            "_model_module": "@jupyter-widgets/controls",
            "_model_module_version": "1.5.0",
            "_model_name": "HBoxModel",
            "_view_count": null,
            "_view_module": "@jupyter-widgets/controls",
            "_view_module_version": "1.5.0",
            "_view_name": "HBoxView",
            "box_style": "",
            "children": [
              "IPY_MODEL_2890d054729c4fe5a26b3de7147ba136",
              "IPY_MODEL_b76df10f97894afab0e68566d46c1e2f",
              "IPY_MODEL_029edb93b4fe44ed9a9e81d43492cb5b"
            ],
            "layout": "IPY_MODEL_6b40734bae12407f94e3a441a412eda9"
          }
        },
        "2890d054729c4fe5a26b3de7147ba136": {
          "model_module": "@jupyter-widgets/controls",
          "model_name": "HTMLModel",
          "model_module_version": "1.5.0",
          "state": {
            "_dom_classes": [],
            "_model_module": "@jupyter-widgets/controls",
            "_model_module_version": "1.5.0",
            "_model_name": "HTMLModel",
            "_view_count": null,
            "_view_module": "@jupyter-widgets/controls",
            "_view_module_version": "1.5.0",
            "_view_name": "HTMLView",
            "description": "",
            "description_tooltip": null,
            "layout": "IPY_MODEL_d6f9a8a124054b1c9a6f419b7598f649",
            "placeholder": "​",
            "style": "IPY_MODEL_76a4cbb4722b40f69eb37a8b7563f6ee",
            "value": "train-00000-of-00001.parquet: 100%"
          }
        },
        "b76df10f97894afab0e68566d46c1e2f": {
          "model_module": "@jupyter-widgets/controls",
          "model_name": "FloatProgressModel",
          "model_module_version": "1.5.0",
          "state": {
            "_dom_classes": [],
            "_model_module": "@jupyter-widgets/controls",
            "_model_module_version": "1.5.0",
            "_model_name": "FloatProgressModel",
            "_view_count": null,
            "_view_module": "@jupyter-widgets/controls",
            "_view_module_version": "1.5.0",
            "_view_name": "ProgressView",
            "bar_style": "success",
            "description": "",
            "description_tooltip": null,
            "layout": "IPY_MODEL_fc450248e29747acba6d86c0fcdb7b77",
            "max": 20979968,
            "min": 0,
            "orientation": "horizontal",
            "style": "IPY_MODEL_0e8924d561504750b0020a7fa870b2f2",
            "value": 20979968
          }
        },
        "029edb93b4fe44ed9a9e81d43492cb5b": {
          "model_module": "@jupyter-widgets/controls",
          "model_name": "HTMLModel",
          "model_module_version": "1.5.0",
          "state": {
            "_dom_classes": [],
            "_model_module": "@jupyter-widgets/controls",
            "_model_module_version": "1.5.0",
            "_model_name": "HTMLModel",
            "_view_count": null,
            "_view_module": "@jupyter-widgets/controls",
            "_view_module_version": "1.5.0",
            "_view_name": "HTMLView",
            "description": "",
            "description_tooltip": null,
            "layout": "IPY_MODEL_93e0bace74164c44ac628233fed9ad5d",
            "placeholder": "​",
            "style": "IPY_MODEL_16aba730727541e6b2a8625407b70fcb",
            "value": " 21.0M/21.0M [00:00&lt;00:00, 71.3MB/s]"
          }
        },
        "6b40734bae12407f94e3a441a412eda9": {
          "model_module": "@jupyter-widgets/base",
          "model_name": "LayoutModel",
          "model_module_version": "1.2.0",
          "state": {
            "_model_module": "@jupyter-widgets/base",
            "_model_module_version": "1.2.0",
            "_model_name": "LayoutModel",
            "_view_count": null,
            "_view_module": "@jupyter-widgets/base",
            "_view_module_version": "1.2.0",
            "_view_name": "LayoutView",
            "align_content": null,
            "align_items": null,
            "align_self": null,
            "border": null,
            "bottom": null,
            "display": null,
            "flex": null,
            "flex_flow": null,
            "grid_area": null,
            "grid_auto_columns": null,
            "grid_auto_flow": null,
            "grid_auto_rows": null,
            "grid_column": null,
            "grid_gap": null,
            "grid_row": null,
            "grid_template_areas": null,
            "grid_template_columns": null,
            "grid_template_rows": null,
            "height": null,
            "justify_content": null,
            "justify_items": null,
            "left": null,
            "margin": null,
            "max_height": null,
            "max_width": null,
            "min_height": null,
            "min_width": null,
            "object_fit": null,
            "object_position": null,
            "order": null,
            "overflow": null,
            "overflow_x": null,
            "overflow_y": null,
            "padding": null,
            "right": null,
            "top": null,
            "visibility": null,
            "width": null
          }
        },
        "d6f9a8a124054b1c9a6f419b7598f649": {
          "model_module": "@jupyter-widgets/base",
          "model_name": "LayoutModel",
          "model_module_version": "1.2.0",
          "state": {
            "_model_module": "@jupyter-widgets/base",
            "_model_module_version": "1.2.0",
            "_model_name": "LayoutModel",
            "_view_count": null,
            "_view_module": "@jupyter-widgets/base",
            "_view_module_version": "1.2.0",
            "_view_name": "LayoutView",
            "align_content": null,
            "align_items": null,
            "align_self": null,
            "border": null,
            "bottom": null,
            "display": null,
            "flex": null,
            "flex_flow": null,
            "grid_area": null,
            "grid_auto_columns": null,
            "grid_auto_flow": null,
            "grid_auto_rows": null,
            "grid_column": null,
            "grid_gap": null,
            "grid_row": null,
            "grid_template_areas": null,
            "grid_template_columns": null,
            "grid_template_rows": null,
            "height": null,
            "justify_content": null,
            "justify_items": null,
            "left": null,
            "margin": null,
            "max_height": null,
            "max_width": null,
            "min_height": null,
            "min_width": null,
            "object_fit": null,
            "object_position": null,
            "order": null,
            "overflow": null,
            "overflow_x": null,
            "overflow_y": null,
            "padding": null,
            "right": null,
            "top": null,
            "visibility": null,
            "width": null
          }
        },
        "76a4cbb4722b40f69eb37a8b7563f6ee": {
          "model_module": "@jupyter-widgets/controls",
          "model_name": "DescriptionStyleModel",
          "model_module_version": "1.5.0",
          "state": {
            "_model_module": "@jupyter-widgets/controls",
            "_model_module_version": "1.5.0",
            "_model_name": "DescriptionStyleModel",
            "_view_count": null,
            "_view_module": "@jupyter-widgets/base",
            "_view_module_version": "1.2.0",
            "_view_name": "StyleView",
            "description_width": ""
          }
        },
        "fc450248e29747acba6d86c0fcdb7b77": {
          "model_module": "@jupyter-widgets/base",
          "model_name": "LayoutModel",
          "model_module_version": "1.2.0",
          "state": {
            "_model_module": "@jupyter-widgets/base",
            "_model_module_version": "1.2.0",
            "_model_name": "LayoutModel",
            "_view_count": null,
            "_view_module": "@jupyter-widgets/base",
            "_view_module_version": "1.2.0",
            "_view_name": "LayoutView",
            "align_content": null,
            "align_items": null,
            "align_self": null,
            "border": null,
            "bottom": null,
            "display": null,
            "flex": null,
            "flex_flow": null,
            "grid_area": null,
            "grid_auto_columns": null,
            "grid_auto_flow": null,
            "grid_auto_rows": null,
            "grid_column": null,
            "grid_gap": null,
            "grid_row": null,
            "grid_template_areas": null,
            "grid_template_columns": null,
            "grid_template_rows": null,
            "height": null,
            "justify_content": null,
            "justify_items": null,
            "left": null,
            "margin": null,
            "max_height": null,
            "max_width": null,
            "min_height": null,
            "min_width": null,
            "object_fit": null,
            "object_position": null,
            "order": null,
            "overflow": null,
            "overflow_x": null,
            "overflow_y": null,
            "padding": null,
            "right": null,
            "top": null,
            "visibility": null,
            "width": null
          }
        },
        "0e8924d561504750b0020a7fa870b2f2": {
          "model_module": "@jupyter-widgets/controls",
          "model_name": "ProgressStyleModel",
          "model_module_version": "1.5.0",
          "state": {
            "_model_module": "@jupyter-widgets/controls",
            "_model_module_version": "1.5.0",
            "_model_name": "ProgressStyleModel",
            "_view_count": null,
            "_view_module": "@jupyter-widgets/base",
            "_view_module_version": "1.2.0",
            "_view_name": "StyleView",
            "bar_color": null,
            "description_width": ""
          }
        },
        "93e0bace74164c44ac628233fed9ad5d": {
          "model_module": "@jupyter-widgets/base",
          "model_name": "LayoutModel",
          "model_module_version": "1.2.0",
          "state": {
            "_model_module": "@jupyter-widgets/base",
            "_model_module_version": "1.2.0",
            "_model_name": "LayoutModel",
            "_view_count": null,
            "_view_module": "@jupyter-widgets/base",
            "_view_module_version": "1.2.0",
            "_view_name": "LayoutView",
            "align_content": null,
            "align_items": null,
            "align_self": null,
            "border": null,
            "bottom": null,
            "display": null,
            "flex": null,
            "flex_flow": null,
            "grid_area": null,
            "grid_auto_columns": null,
            "grid_auto_flow": null,
            "grid_auto_rows": null,
            "grid_column": null,
            "grid_gap": null,
            "grid_row": null,
            "grid_template_areas": null,
            "grid_template_columns": null,
            "grid_template_rows": null,
            "height": null,
            "justify_content": null,
            "justify_items": null,
            "left": null,
            "margin": null,
            "max_height": null,
            "max_width": null,
            "min_height": null,
            "min_width": null,
            "object_fit": null,
            "object_position": null,
            "order": null,
            "overflow": null,
            "overflow_x": null,
            "overflow_y": null,
            "padding": null,
            "right": null,
            "top": null,
            "visibility": null,
            "width": null
          }
        },
        "16aba730727541e6b2a8625407b70fcb": {
          "model_module": "@jupyter-widgets/controls",
          "model_name": "DescriptionStyleModel",
          "model_module_version": "1.5.0",
          "state": {
            "_model_module": "@jupyter-widgets/controls",
            "_model_module_version": "1.5.0",
            "_model_name": "DescriptionStyleModel",
            "_view_count": null,
            "_view_module": "@jupyter-widgets/base",
            "_view_module_version": "1.2.0",
            "_view_name": "StyleView",
            "description_width": ""
          }
        },
        "e96f1017351e4dc9871f75d6f7929190": {
          "model_module": "@jupyter-widgets/controls",
          "model_name": "HBoxModel",
          "model_module_version": "1.5.0",
          "state": {
            "_dom_classes": [],
            "_model_module": "@jupyter-widgets/controls",
            "_model_module_version": "1.5.0",
            "_model_name": "HBoxModel",
            "_view_count": null,
            "_view_module": "@jupyter-widgets/controls",
            "_view_module_version": "1.5.0",
            "_view_name": "HBoxView",
            "box_style": "",
            "children": [
              "IPY_MODEL_7b74a87659be4a908006d97529bbd6f3",
              "IPY_MODEL_658bc68a8fca4dbe93f1956b9d393dbc",
              "IPY_MODEL_e47ed2e7f93849cb8c3d9de02269d348"
            ],
            "layout": "IPY_MODEL_96da0cfda9d04177acd62371d5445a12"
          }
        },
        "7b74a87659be4a908006d97529bbd6f3": {
          "model_module": "@jupyter-widgets/controls",
          "model_name": "HTMLModel",
          "model_module_version": "1.5.0",
          "state": {
            "_dom_classes": [],
            "_model_module": "@jupyter-widgets/controls",
            "_model_module_version": "1.5.0",
            "_model_name": "HTMLModel",
            "_view_count": null,
            "_view_module": "@jupyter-widgets/controls",
            "_view_module_version": "1.5.0",
            "_view_name": "HTMLView",
            "description": "",
            "description_tooltip": null,
            "layout": "IPY_MODEL_4e1e284262594454b50e422f8ca25acb",
            "placeholder": "​",
            "style": "IPY_MODEL_9233f1ca651243abb90657d3f267a04d",
            "value": "test-00000-of-00001.parquet: 100%"
          }
        },
        "658bc68a8fca4dbe93f1956b9d393dbc": {
          "model_module": "@jupyter-widgets/controls",
          "model_name": "FloatProgressModel",
          "model_module_version": "1.5.0",
          "state": {
            "_dom_classes": [],
            "_model_module": "@jupyter-widgets/controls",
            "_model_module_version": "1.5.0",
            "_model_name": "FloatProgressModel",
            "_view_count": null,
            "_view_module": "@jupyter-widgets/controls",
            "_view_module_version": "1.5.0",
            "_view_name": "ProgressView",
            "bar_style": "success",
            "description": "",
            "description_tooltip": null,
            "layout": "IPY_MODEL_8bc63b43545047cb84b64ffd2a2408aa",
            "max": 20470363,
            "min": 0,
            "orientation": "horizontal",
            "style": "IPY_MODEL_2c2f1040b13946deb300929617e5f42f",
            "value": 20470363
          }
        },
        "e47ed2e7f93849cb8c3d9de02269d348": {
          "model_module": "@jupyter-widgets/controls",
          "model_name": "HTMLModel",
          "model_module_version": "1.5.0",
          "state": {
            "_dom_classes": [],
            "_model_module": "@jupyter-widgets/controls",
            "_model_module_version": "1.5.0",
            "_model_name": "HTMLModel",
            "_view_count": null,
            "_view_module": "@jupyter-widgets/controls",
            "_view_module_version": "1.5.0",
            "_view_name": "HTMLView",
            "description": "",
            "description_tooltip": null,
            "layout": "IPY_MODEL_2413896b0b4e4222b9e36980f35b5ced",
            "placeholder": "​",
            "style": "IPY_MODEL_f9fa91e7ac7e4ecd83e01349bfc42ca4",
            "value": " 20.5M/20.5M [00:00&lt;00:00, 93.7MB/s]"
          }
        },
        "96da0cfda9d04177acd62371d5445a12": {
          "model_module": "@jupyter-widgets/base",
          "model_name": "LayoutModel",
          "model_module_version": "1.2.0",
          "state": {
            "_model_module": "@jupyter-widgets/base",
            "_model_module_version": "1.2.0",
            "_model_name": "LayoutModel",
            "_view_count": null,
            "_view_module": "@jupyter-widgets/base",
            "_view_module_version": "1.2.0",
            "_view_name": "LayoutView",
            "align_content": null,
            "align_items": null,
            "align_self": null,
            "border": null,
            "bottom": null,
            "display": null,
            "flex": null,
            "flex_flow": null,
            "grid_area": null,
            "grid_auto_columns": null,
            "grid_auto_flow": null,
            "grid_auto_rows": null,
            "grid_column": null,
            "grid_gap": null,
            "grid_row": null,
            "grid_template_areas": null,
            "grid_template_columns": null,
            "grid_template_rows": null,
            "height": null,
            "justify_content": null,
            "justify_items": null,
            "left": null,
            "margin": null,
            "max_height": null,
            "max_width": null,
            "min_height": null,
            "min_width": null,
            "object_fit": null,
            "object_position": null,
            "order": null,
            "overflow": null,
            "overflow_x": null,
            "overflow_y": null,
            "padding": null,
            "right": null,
            "top": null,
            "visibility": null,
            "width": null
          }
        },
        "4e1e284262594454b50e422f8ca25acb": {
          "model_module": "@jupyter-widgets/base",
          "model_name": "LayoutModel",
          "model_module_version": "1.2.0",
          "state": {
            "_model_module": "@jupyter-widgets/base",
            "_model_module_version": "1.2.0",
            "_model_name": "LayoutModel",
            "_view_count": null,
            "_view_module": "@jupyter-widgets/base",
            "_view_module_version": "1.2.0",
            "_view_name": "LayoutView",
            "align_content": null,
            "align_items": null,
            "align_self": null,
            "border": null,
            "bottom": null,
            "display": null,
            "flex": null,
            "flex_flow": null,
            "grid_area": null,
            "grid_auto_columns": null,
            "grid_auto_flow": null,
            "grid_auto_rows": null,
            "grid_column": null,
            "grid_gap": null,
            "grid_row": null,
            "grid_template_areas": null,
            "grid_template_columns": null,
            "grid_template_rows": null,
            "height": null,
            "justify_content": null,
            "justify_items": null,
            "left": null,
            "margin": null,
            "max_height": null,
            "max_width": null,
            "min_height": null,
            "min_width": null,
            "object_fit": null,
            "object_position": null,
            "order": null,
            "overflow": null,
            "overflow_x": null,
            "overflow_y": null,
            "padding": null,
            "right": null,
            "top": null,
            "visibility": null,
            "width": null
          }
        },
        "9233f1ca651243abb90657d3f267a04d": {
          "model_module": "@jupyter-widgets/controls",
          "model_name": "DescriptionStyleModel",
          "model_module_version": "1.5.0",
          "state": {
            "_model_module": "@jupyter-widgets/controls",
            "_model_module_version": "1.5.0",
            "_model_name": "DescriptionStyleModel",
            "_view_count": null,
            "_view_module": "@jupyter-widgets/base",
            "_view_module_version": "1.2.0",
            "_view_name": "StyleView",
            "description_width": ""
          }
        },
        "8bc63b43545047cb84b64ffd2a2408aa": {
          "model_module": "@jupyter-widgets/base",
          "model_name": "LayoutModel",
          "model_module_version": "1.2.0",
          "state": {
            "_model_module": "@jupyter-widgets/base",
            "_model_module_version": "1.2.0",
            "_model_name": "LayoutModel",
            "_view_count": null,
            "_view_module": "@jupyter-widgets/base",
            "_view_module_version": "1.2.0",
            "_view_name": "LayoutView",
            "align_content": null,
            "align_items": null,
            "align_self": null,
            "border": null,
            "bottom": null,
            "display": null,
            "flex": null,
            "flex_flow": null,
            "grid_area": null,
            "grid_auto_columns": null,
            "grid_auto_flow": null,
            "grid_auto_rows": null,
            "grid_column": null,
            "grid_gap": null,
            "grid_row": null,
            "grid_template_areas": null,
            "grid_template_columns": null,
            "grid_template_rows": null,
            "height": null,
            "justify_content": null,
            "justify_items": null,
            "left": null,
            "margin": null,
            "max_height": null,
            "max_width": null,
            "min_height": null,
            "min_width": null,
            "object_fit": null,
            "object_position": null,
            "order": null,
            "overflow": null,
            "overflow_x": null,
            "overflow_y": null,
            "padding": null,
            "right": null,
            "top": null,
            "visibility": null,
            "width": null
          }
        },
        "2c2f1040b13946deb300929617e5f42f": {
          "model_module": "@jupyter-widgets/controls",
          "model_name": "ProgressStyleModel",
          "model_module_version": "1.5.0",
          "state": {
            "_model_module": "@jupyter-widgets/controls",
            "_model_module_version": "1.5.0",
            "_model_name": "ProgressStyleModel",
            "_view_count": null,
            "_view_module": "@jupyter-widgets/base",
            "_view_module_version": "1.2.0",
            "_view_name": "StyleView",
            "bar_color": null,
            "description_width": ""
          }
        },
        "2413896b0b4e4222b9e36980f35b5ced": {
          "model_module": "@jupyter-widgets/base",
          "model_name": "LayoutModel",
          "model_module_version": "1.2.0",
          "state": {
            "_model_module": "@jupyter-widgets/base",
            "_model_module_version": "1.2.0",
            "_model_name": "LayoutModel",
            "_view_count": null,
            "_view_module": "@jupyter-widgets/base",
            "_view_module_version": "1.2.0",
            "_view_name": "LayoutView",
            "align_content": null,
            "align_items": null,
            "align_self": null,
            "border": null,
            "bottom": null,
            "display": null,
            "flex": null,
            "flex_flow": null,
            "grid_area": null,
            "grid_auto_columns": null,
            "grid_auto_flow": null,
            "grid_auto_rows": null,
            "grid_column": null,
            "grid_gap": null,
            "grid_row": null,
            "grid_template_areas": null,
            "grid_template_columns": null,
            "grid_template_rows": null,
            "height": null,
            "justify_content": null,
            "justify_items": null,
            "left": null,
            "margin": null,
            "max_height": null,
            "max_width": null,
            "min_height": null,
            "min_width": null,
            "object_fit": null,
            "object_position": null,
            "order": null,
            "overflow": null,
            "overflow_x": null,
            "overflow_y": null,
            "padding": null,
            "right": null,
            "top": null,
            "visibility": null,
            "width": null
          }
        },
        "f9fa91e7ac7e4ecd83e01349bfc42ca4": {
          "model_module": "@jupyter-widgets/controls",
          "model_name": "DescriptionStyleModel",
          "model_module_version": "1.5.0",
          "state": {
            "_model_module": "@jupyter-widgets/controls",
            "_model_module_version": "1.5.0",
            "_model_name": "DescriptionStyleModel",
            "_view_count": null,
            "_view_module": "@jupyter-widgets/base",
            "_view_module_version": "1.2.0",
            "_view_name": "StyleView",
            "description_width": ""
          }
        },
        "dc33649eb68b40338d1b255c968c3dce": {
          "model_module": "@jupyter-widgets/controls",
          "model_name": "HBoxModel",
          "model_module_version": "1.5.0",
          "state": {
            "_dom_classes": [],
            "_model_module": "@jupyter-widgets/controls",
            "_model_module_version": "1.5.0",
            "_model_name": "HBoxModel",
            "_view_count": null,
            "_view_module": "@jupyter-widgets/controls",
            "_view_module_version": "1.5.0",
            "_view_name": "HBoxView",
            "box_style": "",
            "children": [
              "IPY_MODEL_c382a1cad7db4b268da33880d6ce100d",
              "IPY_MODEL_0819e0ff263e47e59cd850d1a44fcee5",
              "IPY_MODEL_951723e22431481691f106202759f65e"
            ],
            "layout": "IPY_MODEL_00a8c2cea76f4820a382ce1b7c9c99d8"
          }
        },
        "c382a1cad7db4b268da33880d6ce100d": {
          "model_module": "@jupyter-widgets/controls",
          "model_name": "HTMLModel",
          "model_module_version": "1.5.0",
          "state": {
            "_dom_classes": [],
            "_model_module": "@jupyter-widgets/controls",
            "_model_module_version": "1.5.0",
            "_model_name": "HTMLModel",
            "_view_count": null,
            "_view_module": "@jupyter-widgets/controls",
            "_view_module_version": "1.5.0",
            "_view_name": "HTMLView",
            "description": "",
            "description_tooltip": null,
            "layout": "IPY_MODEL_50e7e5e7736f43468eda73eb572721f5",
            "placeholder": "​",
            "style": "IPY_MODEL_c13c1902c0eb47b8ab73310ca0e3267e",
            "value": "unsupervised-00000-of-00001.parquet: 100%"
          }
        },
        "0819e0ff263e47e59cd850d1a44fcee5": {
          "model_module": "@jupyter-widgets/controls",
          "model_name": "FloatProgressModel",
          "model_module_version": "1.5.0",
          "state": {
            "_dom_classes": [],
            "_model_module": "@jupyter-widgets/controls",
            "_model_module_version": "1.5.0",
            "_model_name": "FloatProgressModel",
            "_view_count": null,
            "_view_module": "@jupyter-widgets/controls",
            "_view_module_version": "1.5.0",
            "_view_name": "ProgressView",
            "bar_style": "success",
            "description": "",
            "description_tooltip": null,
            "layout": "IPY_MODEL_b8c5a9f3341a4e9a8280092ba8925da9",
            "max": 41996509,
            "min": 0,
            "orientation": "horizontal",
            "style": "IPY_MODEL_2fdf10cc12f3496eaafb06a31100a85a",
            "value": 41996509
          }
        },
        "951723e22431481691f106202759f65e": {
          "model_module": "@jupyter-widgets/controls",
          "model_name": "HTMLModel",
          "model_module_version": "1.5.0",
          "state": {
            "_dom_classes": [],
            "_model_module": "@jupyter-widgets/controls",
            "_model_module_version": "1.5.0",
            "_model_name": "HTMLModel",
            "_view_count": null,
            "_view_module": "@jupyter-widgets/controls",
            "_view_module_version": "1.5.0",
            "_view_name": "HTMLView",
            "description": "",
            "description_tooltip": null,
            "layout": "IPY_MODEL_75280e3c3a7d4bdd9c34f5e33b11f21a",
            "placeholder": "​",
            "style": "IPY_MODEL_cf1b70fd8297462081faf9d63761e30c",
            "value": " 42.0M/42.0M [00:00&lt;00:00, 116MB/s]"
          }
        },
        "00a8c2cea76f4820a382ce1b7c9c99d8": {
          "model_module": "@jupyter-widgets/base",
          "model_name": "LayoutModel",
          "model_module_version": "1.2.0",
          "state": {
            "_model_module": "@jupyter-widgets/base",
            "_model_module_version": "1.2.0",
            "_model_name": "LayoutModel",
            "_view_count": null,
            "_view_module": "@jupyter-widgets/base",
            "_view_module_version": "1.2.0",
            "_view_name": "LayoutView",
            "align_content": null,
            "align_items": null,
            "align_self": null,
            "border": null,
            "bottom": null,
            "display": null,
            "flex": null,
            "flex_flow": null,
            "grid_area": null,
            "grid_auto_columns": null,
            "grid_auto_flow": null,
            "grid_auto_rows": null,
            "grid_column": null,
            "grid_gap": null,
            "grid_row": null,
            "grid_template_areas": null,
            "grid_template_columns": null,
            "grid_template_rows": null,
            "height": null,
            "justify_content": null,
            "justify_items": null,
            "left": null,
            "margin": null,
            "max_height": null,
            "max_width": null,
            "min_height": null,
            "min_width": null,
            "object_fit": null,
            "object_position": null,
            "order": null,
            "overflow": null,
            "overflow_x": null,
            "overflow_y": null,
            "padding": null,
            "right": null,
            "top": null,
            "visibility": null,
            "width": null
          }
        },
        "50e7e5e7736f43468eda73eb572721f5": {
          "model_module": "@jupyter-widgets/base",
          "model_name": "LayoutModel",
          "model_module_version": "1.2.0",
          "state": {
            "_model_module": "@jupyter-widgets/base",
            "_model_module_version": "1.2.0",
            "_model_name": "LayoutModel",
            "_view_count": null,
            "_view_module": "@jupyter-widgets/base",
            "_view_module_version": "1.2.0",
            "_view_name": "LayoutView",
            "align_content": null,
            "align_items": null,
            "align_self": null,
            "border": null,
            "bottom": null,
            "display": null,
            "flex": null,
            "flex_flow": null,
            "grid_area": null,
            "grid_auto_columns": null,
            "grid_auto_flow": null,
            "grid_auto_rows": null,
            "grid_column": null,
            "grid_gap": null,
            "grid_row": null,
            "grid_template_areas": null,
            "grid_template_columns": null,
            "grid_template_rows": null,
            "height": null,
            "justify_content": null,
            "justify_items": null,
            "left": null,
            "margin": null,
            "max_height": null,
            "max_width": null,
            "min_height": null,
            "min_width": null,
            "object_fit": null,
            "object_position": null,
            "order": null,
            "overflow": null,
            "overflow_x": null,
            "overflow_y": null,
            "padding": null,
            "right": null,
            "top": null,
            "visibility": null,
            "width": null
          }
        },
        "c13c1902c0eb47b8ab73310ca0e3267e": {
          "model_module": "@jupyter-widgets/controls",
          "model_name": "DescriptionStyleModel",
          "model_module_version": "1.5.0",
          "state": {
            "_model_module": "@jupyter-widgets/controls",
            "_model_module_version": "1.5.0",
            "_model_name": "DescriptionStyleModel",
            "_view_count": null,
            "_view_module": "@jupyter-widgets/base",
            "_view_module_version": "1.2.0",
            "_view_name": "StyleView",
            "description_width": ""
          }
        },
        "b8c5a9f3341a4e9a8280092ba8925da9": {
          "model_module": "@jupyter-widgets/base",
          "model_name": "LayoutModel",
          "model_module_version": "1.2.0",
          "state": {
            "_model_module": "@jupyter-widgets/base",
            "_model_module_version": "1.2.0",
            "_model_name": "LayoutModel",
            "_view_count": null,
            "_view_module": "@jupyter-widgets/base",
            "_view_module_version": "1.2.0",
            "_view_name": "LayoutView",
            "align_content": null,
            "align_items": null,
            "align_self": null,
            "border": null,
            "bottom": null,
            "display": null,
            "flex": null,
            "flex_flow": null,
            "grid_area": null,
            "grid_auto_columns": null,
            "grid_auto_flow": null,
            "grid_auto_rows": null,
            "grid_column": null,
            "grid_gap": null,
            "grid_row": null,
            "grid_template_areas": null,
            "grid_template_columns": null,
            "grid_template_rows": null,
            "height": null,
            "justify_content": null,
            "justify_items": null,
            "left": null,
            "margin": null,
            "max_height": null,
            "max_width": null,
            "min_height": null,
            "min_width": null,
            "object_fit": null,
            "object_position": null,
            "order": null,
            "overflow": null,
            "overflow_x": null,
            "overflow_y": null,
            "padding": null,
            "right": null,
            "top": null,
            "visibility": null,
            "width": null
          }
        },
        "2fdf10cc12f3496eaafb06a31100a85a": {
          "model_module": "@jupyter-widgets/controls",
          "model_name": "ProgressStyleModel",
          "model_module_version": "1.5.0",
          "state": {
            "_model_module": "@jupyter-widgets/controls",
            "_model_module_version": "1.5.0",
            "_model_name": "ProgressStyleModel",
            "_view_count": null,
            "_view_module": "@jupyter-widgets/base",
            "_view_module_version": "1.2.0",
            "_view_name": "StyleView",
            "bar_color": null,
            "description_width": ""
          }
        },
        "75280e3c3a7d4bdd9c34f5e33b11f21a": {
          "model_module": "@jupyter-widgets/base",
          "model_name": "LayoutModel",
          "model_module_version": "1.2.0",
          "state": {
            "_model_module": "@jupyter-widgets/base",
            "_model_module_version": "1.2.0",
            "_model_name": "LayoutModel",
            "_view_count": null,
            "_view_module": "@jupyter-widgets/base",
            "_view_module_version": "1.2.0",
            "_view_name": "LayoutView",
            "align_content": null,
            "align_items": null,
            "align_self": null,
            "border": null,
            "bottom": null,
            "display": null,
            "flex": null,
            "flex_flow": null,
            "grid_area": null,
            "grid_auto_columns": null,
            "grid_auto_flow": null,
            "grid_auto_rows": null,
            "grid_column": null,
            "grid_gap": null,
            "grid_row": null,
            "grid_template_areas": null,
            "grid_template_columns": null,
            "grid_template_rows": null,
            "height": null,
            "justify_content": null,
            "justify_items": null,
            "left": null,
            "margin": null,
            "max_height": null,
            "max_width": null,
            "min_height": null,
            "min_width": null,
            "object_fit": null,
            "object_position": null,
            "order": null,
            "overflow": null,
            "overflow_x": null,
            "overflow_y": null,
            "padding": null,
            "right": null,
            "top": null,
            "visibility": null,
            "width": null
          }
        },
        "cf1b70fd8297462081faf9d63761e30c": {
          "model_module": "@jupyter-widgets/controls",
          "model_name": "DescriptionStyleModel",
          "model_module_version": "1.5.0",
          "state": {
            "_model_module": "@jupyter-widgets/controls",
            "_model_module_version": "1.5.0",
            "_model_name": "DescriptionStyleModel",
            "_view_count": null,
            "_view_module": "@jupyter-widgets/base",
            "_view_module_version": "1.2.0",
            "_view_name": "StyleView",
            "description_width": ""
          }
        },
        "4bdd80838cd94556846cc16493a92d7c": {
          "model_module": "@jupyter-widgets/controls",
          "model_name": "HBoxModel",
          "model_module_version": "1.5.0",
          "state": {
            "_dom_classes": [],
            "_model_module": "@jupyter-widgets/controls",
            "_model_module_version": "1.5.0",
            "_model_name": "HBoxModel",
            "_view_count": null,
            "_view_module": "@jupyter-widgets/controls",
            "_view_module_version": "1.5.0",
            "_view_name": "HBoxView",
            "box_style": "",
            "children": [
              "IPY_MODEL_50f2442891854d4e900813972ef79f9d",
              "IPY_MODEL_edde94a673d8408cb6d1c3317ec21b18",
              "IPY_MODEL_3b5c36211064469ca8946949af4710e6"
            ],
            "layout": "IPY_MODEL_5031c3f986e44a9d9cfd5c64eb5ac0db"
          }
        },
        "50f2442891854d4e900813972ef79f9d": {
          "model_module": "@jupyter-widgets/controls",
          "model_name": "HTMLModel",
          "model_module_version": "1.5.0",
          "state": {
            "_dom_classes": [],
            "_model_module": "@jupyter-widgets/controls",
            "_model_module_version": "1.5.0",
            "_model_name": "HTMLModel",
            "_view_count": null,
            "_view_module": "@jupyter-widgets/controls",
            "_view_module_version": "1.5.0",
            "_view_name": "HTMLView",
            "description": "",
            "description_tooltip": null,
            "layout": "IPY_MODEL_9331280d98aa4408aecd1a27cfe75c41",
            "placeholder": "​",
            "style": "IPY_MODEL_165421cf0dc342c0bbb7931b42742ab6",
            "value": "Generating train split: 100%"
          }
        },
        "edde94a673d8408cb6d1c3317ec21b18": {
          "model_module": "@jupyter-widgets/controls",
          "model_name": "FloatProgressModel",
          "model_module_version": "1.5.0",
          "state": {
            "_dom_classes": [],
            "_model_module": "@jupyter-widgets/controls",
            "_model_module_version": "1.5.0",
            "_model_name": "FloatProgressModel",
            "_view_count": null,
            "_view_module": "@jupyter-widgets/controls",
            "_view_module_version": "1.5.0",
            "_view_name": "ProgressView",
            "bar_style": "success",
            "description": "",
            "description_tooltip": null,
            "layout": "IPY_MODEL_205d63aef28f49beb3edf8f93cc7cf89",
            "max": 25000,
            "min": 0,
            "orientation": "horizontal",
            "style": "IPY_MODEL_7a104de0a1fd4187816cc229457e69ae",
            "value": 25000
          }
        },
        "3b5c36211064469ca8946949af4710e6": {
          "model_module": "@jupyter-widgets/controls",
          "model_name": "HTMLModel",
          "model_module_version": "1.5.0",
          "state": {
            "_dom_classes": [],
            "_model_module": "@jupyter-widgets/controls",
            "_model_module_version": "1.5.0",
            "_model_name": "HTMLModel",
            "_view_count": null,
            "_view_module": "@jupyter-widgets/controls",
            "_view_module_version": "1.5.0",
            "_view_name": "HTMLView",
            "description": "",
            "description_tooltip": null,
            "layout": "IPY_MODEL_d30d70dfa1de4488984c9a0b5671f5b2",
            "placeholder": "​",
            "style": "IPY_MODEL_b47cbba527f24df7bce3da524ea59d67",
            "value": " 25000/25000 [00:00&lt;00:00, 98116.72 examples/s]"
          }
        },
        "5031c3f986e44a9d9cfd5c64eb5ac0db": {
          "model_module": "@jupyter-widgets/base",
          "model_name": "LayoutModel",
          "model_module_version": "1.2.0",
          "state": {
            "_model_module": "@jupyter-widgets/base",
            "_model_module_version": "1.2.0",
            "_model_name": "LayoutModel",
            "_view_count": null,
            "_view_module": "@jupyter-widgets/base",
            "_view_module_version": "1.2.0",
            "_view_name": "LayoutView",
            "align_content": null,
            "align_items": null,
            "align_self": null,
            "border": null,
            "bottom": null,
            "display": null,
            "flex": null,
            "flex_flow": null,
            "grid_area": null,
            "grid_auto_columns": null,
            "grid_auto_flow": null,
            "grid_auto_rows": null,
            "grid_column": null,
            "grid_gap": null,
            "grid_row": null,
            "grid_template_areas": null,
            "grid_template_columns": null,
            "grid_template_rows": null,
            "height": null,
            "justify_content": null,
            "justify_items": null,
            "left": null,
            "margin": null,
            "max_height": null,
            "max_width": null,
            "min_height": null,
            "min_width": null,
            "object_fit": null,
            "object_position": null,
            "order": null,
            "overflow": null,
            "overflow_x": null,
            "overflow_y": null,
            "padding": null,
            "right": null,
            "top": null,
            "visibility": null,
            "width": null
          }
        },
        "9331280d98aa4408aecd1a27cfe75c41": {
          "model_module": "@jupyter-widgets/base",
          "model_name": "LayoutModel",
          "model_module_version": "1.2.0",
          "state": {
            "_model_module": "@jupyter-widgets/base",
            "_model_module_version": "1.2.0",
            "_model_name": "LayoutModel",
            "_view_count": null,
            "_view_module": "@jupyter-widgets/base",
            "_view_module_version": "1.2.0",
            "_view_name": "LayoutView",
            "align_content": null,
            "align_items": null,
            "align_self": null,
            "border": null,
            "bottom": null,
            "display": null,
            "flex": null,
            "flex_flow": null,
            "grid_area": null,
            "grid_auto_columns": null,
            "grid_auto_flow": null,
            "grid_auto_rows": null,
            "grid_column": null,
            "grid_gap": null,
            "grid_row": null,
            "grid_template_areas": null,
            "grid_template_columns": null,
            "grid_template_rows": null,
            "height": null,
            "justify_content": null,
            "justify_items": null,
            "left": null,
            "margin": null,
            "max_height": null,
            "max_width": null,
            "min_height": null,
            "min_width": null,
            "object_fit": null,
            "object_position": null,
            "order": null,
            "overflow": null,
            "overflow_x": null,
            "overflow_y": null,
            "padding": null,
            "right": null,
            "top": null,
            "visibility": null,
            "width": null
          }
        },
        "165421cf0dc342c0bbb7931b42742ab6": {
          "model_module": "@jupyter-widgets/controls",
          "model_name": "DescriptionStyleModel",
          "model_module_version": "1.5.0",
          "state": {
            "_model_module": "@jupyter-widgets/controls",
            "_model_module_version": "1.5.0",
            "_model_name": "DescriptionStyleModel",
            "_view_count": null,
            "_view_module": "@jupyter-widgets/base",
            "_view_module_version": "1.2.0",
            "_view_name": "StyleView",
            "description_width": ""
          }
        },
        "205d63aef28f49beb3edf8f93cc7cf89": {
          "model_module": "@jupyter-widgets/base",
          "model_name": "LayoutModel",
          "model_module_version": "1.2.0",
          "state": {
            "_model_module": "@jupyter-widgets/base",
            "_model_module_version": "1.2.0",
            "_model_name": "LayoutModel",
            "_view_count": null,
            "_view_module": "@jupyter-widgets/base",
            "_view_module_version": "1.2.0",
            "_view_name": "LayoutView",
            "align_content": null,
            "align_items": null,
            "align_self": null,
            "border": null,
            "bottom": null,
            "display": null,
            "flex": null,
            "flex_flow": null,
            "grid_area": null,
            "grid_auto_columns": null,
            "grid_auto_flow": null,
            "grid_auto_rows": null,
            "grid_column": null,
            "grid_gap": null,
            "grid_row": null,
            "grid_template_areas": null,
            "grid_template_columns": null,
            "grid_template_rows": null,
            "height": null,
            "justify_content": null,
            "justify_items": null,
            "left": null,
            "margin": null,
            "max_height": null,
            "max_width": null,
            "min_height": null,
            "min_width": null,
            "object_fit": null,
            "object_position": null,
            "order": null,
            "overflow": null,
            "overflow_x": null,
            "overflow_y": null,
            "padding": null,
            "right": null,
            "top": null,
            "visibility": null,
            "width": null
          }
        },
        "7a104de0a1fd4187816cc229457e69ae": {
          "model_module": "@jupyter-widgets/controls",
          "model_name": "ProgressStyleModel",
          "model_module_version": "1.5.0",
          "state": {
            "_model_module": "@jupyter-widgets/controls",
            "_model_module_version": "1.5.0",
            "_model_name": "ProgressStyleModel",
            "_view_count": null,
            "_view_module": "@jupyter-widgets/base",
            "_view_module_version": "1.2.0",
            "_view_name": "StyleView",
            "bar_color": null,
            "description_width": ""
          }
        },
        "d30d70dfa1de4488984c9a0b5671f5b2": {
          "model_module": "@jupyter-widgets/base",
          "model_name": "LayoutModel",
          "model_module_version": "1.2.0",
          "state": {
            "_model_module": "@jupyter-widgets/base",
            "_model_module_version": "1.2.0",
            "_model_name": "LayoutModel",
            "_view_count": null,
            "_view_module": "@jupyter-widgets/base",
            "_view_module_version": "1.2.0",
            "_view_name": "LayoutView",
            "align_content": null,
            "align_items": null,
            "align_self": null,
            "border": null,
            "bottom": null,
            "display": null,
            "flex": null,
            "flex_flow": null,
            "grid_area": null,
            "grid_auto_columns": null,
            "grid_auto_flow": null,
            "grid_auto_rows": null,
            "grid_column": null,
            "grid_gap": null,
            "grid_row": null,
            "grid_template_areas": null,
            "grid_template_columns": null,
            "grid_template_rows": null,
            "height": null,
            "justify_content": null,
            "justify_items": null,
            "left": null,
            "margin": null,
            "max_height": null,
            "max_width": null,
            "min_height": null,
            "min_width": null,
            "object_fit": null,
            "object_position": null,
            "order": null,
            "overflow": null,
            "overflow_x": null,
            "overflow_y": null,
            "padding": null,
            "right": null,
            "top": null,
            "visibility": null,
            "width": null
          }
        },
        "b47cbba527f24df7bce3da524ea59d67": {
          "model_module": "@jupyter-widgets/controls",
          "model_name": "DescriptionStyleModel",
          "model_module_version": "1.5.0",
          "state": {
            "_model_module": "@jupyter-widgets/controls",
            "_model_module_version": "1.5.0",
            "_model_name": "DescriptionStyleModel",
            "_view_count": null,
            "_view_module": "@jupyter-widgets/base",
            "_view_module_version": "1.2.0",
            "_view_name": "StyleView",
            "description_width": ""
          }
        },
        "1ead679833584ff49a5086bb19fecd21": {
          "model_module": "@jupyter-widgets/controls",
          "model_name": "HBoxModel",
          "model_module_version": "1.5.0",
          "state": {
            "_dom_classes": [],
            "_model_module": "@jupyter-widgets/controls",
            "_model_module_version": "1.5.0",
            "_model_name": "HBoxModel",
            "_view_count": null,
            "_view_module": "@jupyter-widgets/controls",
            "_view_module_version": "1.5.0",
            "_view_name": "HBoxView",
            "box_style": "",
            "children": [
              "IPY_MODEL_403a6a74d20449adb3593fd2d20eeddd",
              "IPY_MODEL_98cdfa1953984179a450643e868bfda4",
              "IPY_MODEL_a02f094e671248bf893477da3a555d8d"
            ],
            "layout": "IPY_MODEL_ec481003b39c4e2db49178631c203854"
          }
        },
        "403a6a74d20449adb3593fd2d20eeddd": {
          "model_module": "@jupyter-widgets/controls",
          "model_name": "HTMLModel",
          "model_module_version": "1.5.0",
          "state": {
            "_dom_classes": [],
            "_model_module": "@jupyter-widgets/controls",
            "_model_module_version": "1.5.0",
            "_model_name": "HTMLModel",
            "_view_count": null,
            "_view_module": "@jupyter-widgets/controls",
            "_view_module_version": "1.5.0",
            "_view_name": "HTMLView",
            "description": "",
            "description_tooltip": null,
            "layout": "IPY_MODEL_abde789dc85c4df7bc2e24c1bed7f5bf",
            "placeholder": "​",
            "style": "IPY_MODEL_ced5c8b1ceaf4c29bf5e2776bc13b358",
            "value": "Generating test split: 100%"
          }
        },
        "98cdfa1953984179a450643e868bfda4": {
          "model_module": "@jupyter-widgets/controls",
          "model_name": "FloatProgressModel",
          "model_module_version": "1.5.0",
          "state": {
            "_dom_classes": [],
            "_model_module": "@jupyter-widgets/controls",
            "_model_module_version": "1.5.0",
            "_model_name": "FloatProgressModel",
            "_view_count": null,
            "_view_module": "@jupyter-widgets/controls",
            "_view_module_version": "1.5.0",
            "_view_name": "ProgressView",
            "bar_style": "success",
            "description": "",
            "description_tooltip": null,
            "layout": "IPY_MODEL_1ca819d1883e4d82af0c47b23db23bcb",
            "max": 25000,
            "min": 0,
            "orientation": "horizontal",
            "style": "IPY_MODEL_c94397494d6d43a79800b228da721695",
            "value": 25000
          }
        },
        "a02f094e671248bf893477da3a555d8d": {
          "model_module": "@jupyter-widgets/controls",
          "model_name": "HTMLModel",
          "model_module_version": "1.5.0",
          "state": {
            "_dom_classes": [],
            "_model_module": "@jupyter-widgets/controls",
            "_model_module_version": "1.5.0",
            "_model_name": "HTMLModel",
            "_view_count": null,
            "_view_module": "@jupyter-widgets/controls",
            "_view_module_version": "1.5.0",
            "_view_name": "HTMLView",
            "description": "",
            "description_tooltip": null,
            "layout": "IPY_MODEL_8f925f010ac3440db484b412c4481986",
            "placeholder": "​",
            "style": "IPY_MODEL_b0b3eb095b2647d59901425593023273",
            "value": " 25000/25000 [00:00&lt;00:00, 89440.17 examples/s]"
          }
        },
        "ec481003b39c4e2db49178631c203854": {
          "model_module": "@jupyter-widgets/base",
          "model_name": "LayoutModel",
          "model_module_version": "1.2.0",
          "state": {
            "_model_module": "@jupyter-widgets/base",
            "_model_module_version": "1.2.0",
            "_model_name": "LayoutModel",
            "_view_count": null,
            "_view_module": "@jupyter-widgets/base",
            "_view_module_version": "1.2.0",
            "_view_name": "LayoutView",
            "align_content": null,
            "align_items": null,
            "align_self": null,
            "border": null,
            "bottom": null,
            "display": null,
            "flex": null,
            "flex_flow": null,
            "grid_area": null,
            "grid_auto_columns": null,
            "grid_auto_flow": null,
            "grid_auto_rows": null,
            "grid_column": null,
            "grid_gap": null,
            "grid_row": null,
            "grid_template_areas": null,
            "grid_template_columns": null,
            "grid_template_rows": null,
            "height": null,
            "justify_content": null,
            "justify_items": null,
            "left": null,
            "margin": null,
            "max_height": null,
            "max_width": null,
            "min_height": null,
            "min_width": null,
            "object_fit": null,
            "object_position": null,
            "order": null,
            "overflow": null,
            "overflow_x": null,
            "overflow_y": null,
            "padding": null,
            "right": null,
            "top": null,
            "visibility": null,
            "width": null
          }
        },
        "abde789dc85c4df7bc2e24c1bed7f5bf": {
          "model_module": "@jupyter-widgets/base",
          "model_name": "LayoutModel",
          "model_module_version": "1.2.0",
          "state": {
            "_model_module": "@jupyter-widgets/base",
            "_model_module_version": "1.2.0",
            "_model_name": "LayoutModel",
            "_view_count": null,
            "_view_module": "@jupyter-widgets/base",
            "_view_module_version": "1.2.0",
            "_view_name": "LayoutView",
            "align_content": null,
            "align_items": null,
            "align_self": null,
            "border": null,
            "bottom": null,
            "display": null,
            "flex": null,
            "flex_flow": null,
            "grid_area": null,
            "grid_auto_columns": null,
            "grid_auto_flow": null,
            "grid_auto_rows": null,
            "grid_column": null,
            "grid_gap": null,
            "grid_row": null,
            "grid_template_areas": null,
            "grid_template_columns": null,
            "grid_template_rows": null,
            "height": null,
            "justify_content": null,
            "justify_items": null,
            "left": null,
            "margin": null,
            "max_height": null,
            "max_width": null,
            "min_height": null,
            "min_width": null,
            "object_fit": null,
            "object_position": null,
            "order": null,
            "overflow": null,
            "overflow_x": null,
            "overflow_y": null,
            "padding": null,
            "right": null,
            "top": null,
            "visibility": null,
            "width": null
          }
        },
        "ced5c8b1ceaf4c29bf5e2776bc13b358": {
          "model_module": "@jupyter-widgets/controls",
          "model_name": "DescriptionStyleModel",
          "model_module_version": "1.5.0",
          "state": {
            "_model_module": "@jupyter-widgets/controls",
            "_model_module_version": "1.5.0",
            "_model_name": "DescriptionStyleModel",
            "_view_count": null,
            "_view_module": "@jupyter-widgets/base",
            "_view_module_version": "1.2.0",
            "_view_name": "StyleView",
            "description_width": ""
          }
        },
        "1ca819d1883e4d82af0c47b23db23bcb": {
          "model_module": "@jupyter-widgets/base",
          "model_name": "LayoutModel",
          "model_module_version": "1.2.0",
          "state": {
            "_model_module": "@jupyter-widgets/base",
            "_model_module_version": "1.2.0",
            "_model_name": "LayoutModel",
            "_view_count": null,
            "_view_module": "@jupyter-widgets/base",
            "_view_module_version": "1.2.0",
            "_view_name": "LayoutView",
            "align_content": null,
            "align_items": null,
            "align_self": null,
            "border": null,
            "bottom": null,
            "display": null,
            "flex": null,
            "flex_flow": null,
            "grid_area": null,
            "grid_auto_columns": null,
            "grid_auto_flow": null,
            "grid_auto_rows": null,
            "grid_column": null,
            "grid_gap": null,
            "grid_row": null,
            "grid_template_areas": null,
            "grid_template_columns": null,
            "grid_template_rows": null,
            "height": null,
            "justify_content": null,
            "justify_items": null,
            "left": null,
            "margin": null,
            "max_height": null,
            "max_width": null,
            "min_height": null,
            "min_width": null,
            "object_fit": null,
            "object_position": null,
            "order": null,
            "overflow": null,
            "overflow_x": null,
            "overflow_y": null,
            "padding": null,
            "right": null,
            "top": null,
            "visibility": null,
            "width": null
          }
        },
        "c94397494d6d43a79800b228da721695": {
          "model_module": "@jupyter-widgets/controls",
          "model_name": "ProgressStyleModel",
          "model_module_version": "1.5.0",
          "state": {
            "_model_module": "@jupyter-widgets/controls",
            "_model_module_version": "1.5.0",
            "_model_name": "ProgressStyleModel",
            "_view_count": null,
            "_view_module": "@jupyter-widgets/base",
            "_view_module_version": "1.2.0",
            "_view_name": "StyleView",
            "bar_color": null,
            "description_width": ""
          }
        },
        "8f925f010ac3440db484b412c4481986": {
          "model_module": "@jupyter-widgets/base",
          "model_name": "LayoutModel",
          "model_module_version": "1.2.0",
          "state": {
            "_model_module": "@jupyter-widgets/base",
            "_model_module_version": "1.2.0",
            "_model_name": "LayoutModel",
            "_view_count": null,
            "_view_module": "@jupyter-widgets/base",
            "_view_module_version": "1.2.0",
            "_view_name": "LayoutView",
            "align_content": null,
            "align_items": null,
            "align_self": null,
            "border": null,
            "bottom": null,
            "display": null,
            "flex": null,
            "flex_flow": null,
            "grid_area": null,
            "grid_auto_columns": null,
            "grid_auto_flow": null,
            "grid_auto_rows": null,
            "grid_column": null,
            "grid_gap": null,
            "grid_row": null,
            "grid_template_areas": null,
            "grid_template_columns": null,
            "grid_template_rows": null,
            "height": null,
            "justify_content": null,
            "justify_items": null,
            "left": null,
            "margin": null,
            "max_height": null,
            "max_width": null,
            "min_height": null,
            "min_width": null,
            "object_fit": null,
            "object_position": null,
            "order": null,
            "overflow": null,
            "overflow_x": null,
            "overflow_y": null,
            "padding": null,
            "right": null,
            "top": null,
            "visibility": null,
            "width": null
          }
        },
        "b0b3eb095b2647d59901425593023273": {
          "model_module": "@jupyter-widgets/controls",
          "model_name": "DescriptionStyleModel",
          "model_module_version": "1.5.0",
          "state": {
            "_model_module": "@jupyter-widgets/controls",
            "_model_module_version": "1.5.0",
            "_model_name": "DescriptionStyleModel",
            "_view_count": null,
            "_view_module": "@jupyter-widgets/base",
            "_view_module_version": "1.2.0",
            "_view_name": "StyleView",
            "description_width": ""
          }
        },
        "cdf6629cdb2b4fbaa6c6e2666385eb41": {
          "model_module": "@jupyter-widgets/controls",
          "model_name": "HBoxModel",
          "model_module_version": "1.5.0",
          "state": {
            "_dom_classes": [],
            "_model_module": "@jupyter-widgets/controls",
            "_model_module_version": "1.5.0",
            "_model_name": "HBoxModel",
            "_view_count": null,
            "_view_module": "@jupyter-widgets/controls",
            "_view_module_version": "1.5.0",
            "_view_name": "HBoxView",
            "box_style": "",
            "children": [
              "IPY_MODEL_dfb1d0c8d2674a5392756b90c499628a",
              "IPY_MODEL_1e86d49a93d640cbb26443e67bbec643",
              "IPY_MODEL_64882fba142840c59d551ec502e0312f"
            ],
            "layout": "IPY_MODEL_5fa49931280b44f7a8a95a8d44427c84"
          }
        },
        "dfb1d0c8d2674a5392756b90c499628a": {
          "model_module": "@jupyter-widgets/controls",
          "model_name": "HTMLModel",
          "model_module_version": "1.5.0",
          "state": {
            "_dom_classes": [],
            "_model_module": "@jupyter-widgets/controls",
            "_model_module_version": "1.5.0",
            "_model_name": "HTMLModel",
            "_view_count": null,
            "_view_module": "@jupyter-widgets/controls",
            "_view_module_version": "1.5.0",
            "_view_name": "HTMLView",
            "description": "",
            "description_tooltip": null,
            "layout": "IPY_MODEL_397e36a821e047a782e589a21fd5094d",
            "placeholder": "​",
            "style": "IPY_MODEL_4674f1704faa4790ab5c78ec722b5368",
            "value": "Generating unsupervised split: 100%"
          }
        },
        "1e86d49a93d640cbb26443e67bbec643": {
          "model_module": "@jupyter-widgets/controls",
          "model_name": "FloatProgressModel",
          "model_module_version": "1.5.0",
          "state": {
            "_dom_classes": [],
            "_model_module": "@jupyter-widgets/controls",
            "_model_module_version": "1.5.0",
            "_model_name": "FloatProgressModel",
            "_view_count": null,
            "_view_module": "@jupyter-widgets/controls",
            "_view_module_version": "1.5.0",
            "_view_name": "ProgressView",
            "bar_style": "success",
            "description": "",
            "description_tooltip": null,
            "layout": "IPY_MODEL_cf76b42f174f4aea9d77b23c7569aa5c",
            "max": 50000,
            "min": 0,
            "orientation": "horizontal",
            "style": "IPY_MODEL_54fd2033c9fe427db63151de1a9395a4",
            "value": 50000
          }
        },
        "64882fba142840c59d551ec502e0312f": {
          "model_module": "@jupyter-widgets/controls",
          "model_name": "HTMLModel",
          "model_module_version": "1.5.0",
          "state": {
            "_dom_classes": [],
            "_model_module": "@jupyter-widgets/controls",
            "_model_module_version": "1.5.0",
            "_model_name": "HTMLModel",
            "_view_count": null,
            "_view_module": "@jupyter-widgets/controls",
            "_view_module_version": "1.5.0",
            "_view_name": "HTMLView",
            "description": "",
            "description_tooltip": null,
            "layout": "IPY_MODEL_976aea4d4d8c4325b942d4ed6cec2c65",
            "placeholder": "​",
            "style": "IPY_MODEL_70e2f0dec1a144d28fbdd82af07a654b",
            "value": " 50000/50000 [00:00&lt;00:00, 135945.27 examples/s]"
          }
        },
        "5fa49931280b44f7a8a95a8d44427c84": {
          "model_module": "@jupyter-widgets/base",
          "model_name": "LayoutModel",
          "model_module_version": "1.2.0",
          "state": {
            "_model_module": "@jupyter-widgets/base",
            "_model_module_version": "1.2.0",
            "_model_name": "LayoutModel",
            "_view_count": null,
            "_view_module": "@jupyter-widgets/base",
            "_view_module_version": "1.2.0",
            "_view_name": "LayoutView",
            "align_content": null,
            "align_items": null,
            "align_self": null,
            "border": null,
            "bottom": null,
            "display": null,
            "flex": null,
            "flex_flow": null,
            "grid_area": null,
            "grid_auto_columns": null,
            "grid_auto_flow": null,
            "grid_auto_rows": null,
            "grid_column": null,
            "grid_gap": null,
            "grid_row": null,
            "grid_template_areas": null,
            "grid_template_columns": null,
            "grid_template_rows": null,
            "height": null,
            "justify_content": null,
            "justify_items": null,
            "left": null,
            "margin": null,
            "max_height": null,
            "max_width": null,
            "min_height": null,
            "min_width": null,
            "object_fit": null,
            "object_position": null,
            "order": null,
            "overflow": null,
            "overflow_x": null,
            "overflow_y": null,
            "padding": null,
            "right": null,
            "top": null,
            "visibility": null,
            "width": null
          }
        },
        "397e36a821e047a782e589a21fd5094d": {
          "model_module": "@jupyter-widgets/base",
          "model_name": "LayoutModel",
          "model_module_version": "1.2.0",
          "state": {
            "_model_module": "@jupyter-widgets/base",
            "_model_module_version": "1.2.0",
            "_model_name": "LayoutModel",
            "_view_count": null,
            "_view_module": "@jupyter-widgets/base",
            "_view_module_version": "1.2.0",
            "_view_name": "LayoutView",
            "align_content": null,
            "align_items": null,
            "align_self": null,
            "border": null,
            "bottom": null,
            "display": null,
            "flex": null,
            "flex_flow": null,
            "grid_area": null,
            "grid_auto_columns": null,
            "grid_auto_flow": null,
            "grid_auto_rows": null,
            "grid_column": null,
            "grid_gap": null,
            "grid_row": null,
            "grid_template_areas": null,
            "grid_template_columns": null,
            "grid_template_rows": null,
            "height": null,
            "justify_content": null,
            "justify_items": null,
            "left": null,
            "margin": null,
            "max_height": null,
            "max_width": null,
            "min_height": null,
            "min_width": null,
            "object_fit": null,
            "object_position": null,
            "order": null,
            "overflow": null,
            "overflow_x": null,
            "overflow_y": null,
            "padding": null,
            "right": null,
            "top": null,
            "visibility": null,
            "width": null
          }
        },
        "4674f1704faa4790ab5c78ec722b5368": {
          "model_module": "@jupyter-widgets/controls",
          "model_name": "DescriptionStyleModel",
          "model_module_version": "1.5.0",
          "state": {
            "_model_module": "@jupyter-widgets/controls",
            "_model_module_version": "1.5.0",
            "_model_name": "DescriptionStyleModel",
            "_view_count": null,
            "_view_module": "@jupyter-widgets/base",
            "_view_module_version": "1.2.0",
            "_view_name": "StyleView",
            "description_width": ""
          }
        },
        "cf76b42f174f4aea9d77b23c7569aa5c": {
          "model_module": "@jupyter-widgets/base",
          "model_name": "LayoutModel",
          "model_module_version": "1.2.0",
          "state": {
            "_model_module": "@jupyter-widgets/base",
            "_model_module_version": "1.2.0",
            "_model_name": "LayoutModel",
            "_view_count": null,
            "_view_module": "@jupyter-widgets/base",
            "_view_module_version": "1.2.0",
            "_view_name": "LayoutView",
            "align_content": null,
            "align_items": null,
            "align_self": null,
            "border": null,
            "bottom": null,
            "display": null,
            "flex": null,
            "flex_flow": null,
            "grid_area": null,
            "grid_auto_columns": null,
            "grid_auto_flow": null,
            "grid_auto_rows": null,
            "grid_column": null,
            "grid_gap": null,
            "grid_row": null,
            "grid_template_areas": null,
            "grid_template_columns": null,
            "grid_template_rows": null,
            "height": null,
            "justify_content": null,
            "justify_items": null,
            "left": null,
            "margin": null,
            "max_height": null,
            "max_width": null,
            "min_height": null,
            "min_width": null,
            "object_fit": null,
            "object_position": null,
            "order": null,
            "overflow": null,
            "overflow_x": null,
            "overflow_y": null,
            "padding": null,
            "right": null,
            "top": null,
            "visibility": null,
            "width": null
          }
        },
        "54fd2033c9fe427db63151de1a9395a4": {
          "model_module": "@jupyter-widgets/controls",
          "model_name": "ProgressStyleModel",
          "model_module_version": "1.5.0",
          "state": {
            "_model_module": "@jupyter-widgets/controls",
            "_model_module_version": "1.5.0",
            "_model_name": "ProgressStyleModel",
            "_view_count": null,
            "_view_module": "@jupyter-widgets/base",
            "_view_module_version": "1.2.0",
            "_view_name": "StyleView",
            "bar_color": null,
            "description_width": ""
          }
        },
        "976aea4d4d8c4325b942d4ed6cec2c65": {
          "model_module": "@jupyter-widgets/base",
          "model_name": "LayoutModel",
          "model_module_version": "1.2.0",
          "state": {
            "_model_module": "@jupyter-widgets/base",
            "_model_module_version": "1.2.0",
            "_model_name": "LayoutModel",
            "_view_count": null,
            "_view_module": "@jupyter-widgets/base",
            "_view_module_version": "1.2.0",
            "_view_name": "LayoutView",
            "align_content": null,
            "align_items": null,
            "align_self": null,
            "border": null,
            "bottom": null,
            "display": null,
            "flex": null,
            "flex_flow": null,
            "grid_area": null,
            "grid_auto_columns": null,
            "grid_auto_flow": null,
            "grid_auto_rows": null,
            "grid_column": null,
            "grid_gap": null,
            "grid_row": null,
            "grid_template_areas": null,
            "grid_template_columns": null,
            "grid_template_rows": null,
            "height": null,
            "justify_content": null,
            "justify_items": null,
            "left": null,
            "margin": null,
            "max_height": null,
            "max_width": null,
            "min_height": null,
            "min_width": null,
            "object_fit": null,
            "object_position": null,
            "order": null,
            "overflow": null,
            "overflow_x": null,
            "overflow_y": null,
            "padding": null,
            "right": null,
            "top": null,
            "visibility": null,
            "width": null
          }
        },
        "70e2f0dec1a144d28fbdd82af07a654b": {
          "model_module": "@jupyter-widgets/controls",
          "model_name": "DescriptionStyleModel",
          "model_module_version": "1.5.0",
          "state": {
            "_model_module": "@jupyter-widgets/controls",
            "_model_module_version": "1.5.0",
            "_model_name": "DescriptionStyleModel",
            "_view_count": null,
            "_view_module": "@jupyter-widgets/base",
            "_view_module_version": "1.2.0",
            "_view_name": "StyleView",
            "description_width": ""
          }
        }
      }
    }
  },
  "nbformat_minor": 0,
  "nbformat": 4,
  "cells": [
    {
      "cell_type": "markdown",
      "source": [
        "# Fine-Tuning BERT on the IMDB Dataset 🎬 for Sentiment Analysis 😊📉"
      ],
      "metadata": {
        "id": "pP__qE0t9YvU"
      }
    },
    {
      "cell_type": "markdown",
      "source": [
        "The IMDB dataset is indeed a very rich resource for **natural language processing (NLP)** projects. With its **50,000 reviews** annotated for sentiment (positive or negative), it is ideal for **sentiment classification** projects. This database stands out for:\n",
        "\n",
        "1. **Large Size**: The reviews are split into **25,000 examples for training** and **25,000 for testing**, allowing for balanced development and testing of machine learning models.\n",
        "\n",
        "2. **Sentiment Annotations**: Each review is categorized as **positive** (+) or **negative** (-), facilitating supervised learning.\n",
        "\n",
        "3. **Source**: The data comes from the **IMDB** site, well-known in the entertainment industry, thus offering credible and varied data on movie reviews.\n",
        "\n",
        "4. **Raw Text**: The reviews are in raw text, with no prior cleaning, offering **flexibility in data preprocessing** to adapt the dataset to the model's specific needs.\n",
        "\n",
        "This dataset is therefore perfect for experimenting with NLP techniques and **supervised machine learning**, allowing for training models capable of **analyzing** and **predicting** sentiments expressed in texts."
      ],
      "metadata": {
        "id": "aXZhMidDpAs-"
      }
    },
    {
      "cell_type": "markdown",
      "source": [
        "# Importing Libraries 📚\n",
        "To begin, we will import all the necessary libraries for this project."
      ],
      "metadata": {
        "id": "2ZltMmE0jliA"
      }
    },
    {
      "cell_type": "code",
      "source": [
        "!pip install datasets"
      ],
      "metadata": {
        "id": "j7Fk7rb5kpsx",
        "trusted": true,
        "execution": {
          "iopub.status.busy": "2024-11-05T13:04:05.264616Z",
          "iopub.execute_input": "2024-11-05T13:04:05.265019Z",
          "iopub.status.idle": "2024-11-05T13:04:17.324843Z",
          "shell.execute_reply.started": "2024-11-05T13:04:05.264979Z",
          "shell.execute_reply": "2024-11-05T13:04:17.323667Z"
        },
        "colab": {
          "base_uri": "https://localhost:8080/"
        },
        "outputId": "46b1ccb4-50b2-43c5-97d5-8c1857f60753"
      },
      "outputs": [
        {
          "output_type": "stream",
          "name": "stdout",
          "text": [
            "Collecting datasets\n",
            "  Downloading datasets-3.1.0-py3-none-any.whl.metadata (20 kB)\n",
            "Requirement already satisfied: filelock in /usr/local/lib/python3.10/dist-packages (from datasets) (3.16.1)\n",
            "Requirement already satisfied: numpy>=1.17 in /usr/local/lib/python3.10/dist-packages (from datasets) (1.26.4)\n",
            "Requirement already satisfied: pyarrow>=15.0.0 in /usr/local/lib/python3.10/dist-packages (from datasets) (17.0.0)\n",
            "Collecting dill<0.3.9,>=0.3.0 (from datasets)\n",
            "  Downloading dill-0.3.8-py3-none-any.whl.metadata (10 kB)\n",
            "Requirement already satisfied: pandas in /usr/local/lib/python3.10/dist-packages (from datasets) (2.2.2)\n",
            "Requirement already satisfied: requests>=2.32.2 in /usr/local/lib/python3.10/dist-packages (from datasets) (2.32.3)\n",
            "Requirement already satisfied: tqdm>=4.66.3 in /usr/local/lib/python3.10/dist-packages (from datasets) (4.66.6)\n",
            "Collecting xxhash (from datasets)\n",
            "  Downloading xxhash-3.5.0-cp310-cp310-manylinux_2_17_x86_64.manylinux2014_x86_64.whl.metadata (12 kB)\n",
            "Collecting multiprocess<0.70.17 (from datasets)\n",
            "  Downloading multiprocess-0.70.16-py310-none-any.whl.metadata (7.2 kB)\n",
            "Collecting fsspec<=2024.9.0,>=2023.1.0 (from fsspec[http]<=2024.9.0,>=2023.1.0->datasets)\n",
            "  Downloading fsspec-2024.9.0-py3-none-any.whl.metadata (11 kB)\n",
            "Requirement already satisfied: aiohttp in /usr/local/lib/python3.10/dist-packages (from datasets) (3.10.10)\n",
            "Requirement already satisfied: huggingface-hub>=0.23.0 in /usr/local/lib/python3.10/dist-packages (from datasets) (0.24.7)\n",
            "Requirement already satisfied: packaging in /usr/local/lib/python3.10/dist-packages (from datasets) (24.1)\n",
            "Requirement already satisfied: pyyaml>=5.1 in /usr/local/lib/python3.10/dist-packages (from datasets) (6.0.2)\n",
            "Requirement already satisfied: aiohappyeyeballs>=2.3.0 in /usr/local/lib/python3.10/dist-packages (from aiohttp->datasets) (2.4.3)\n",
            "Requirement already satisfied: aiosignal>=1.1.2 in /usr/local/lib/python3.10/dist-packages (from aiohttp->datasets) (1.3.1)\n",
            "Requirement already satisfied: attrs>=17.3.0 in /usr/local/lib/python3.10/dist-packages (from aiohttp->datasets) (24.2.0)\n",
            "Requirement already satisfied: frozenlist>=1.1.1 in /usr/local/lib/python3.10/dist-packages (from aiohttp->datasets) (1.5.0)\n",
            "Requirement already satisfied: multidict<7.0,>=4.5 in /usr/local/lib/python3.10/dist-packages (from aiohttp->datasets) (6.1.0)\n",
            "Requirement already satisfied: yarl<2.0,>=1.12.0 in /usr/local/lib/python3.10/dist-packages (from aiohttp->datasets) (1.17.0)\n",
            "Requirement already satisfied: async-timeout<5.0,>=4.0 in /usr/local/lib/python3.10/dist-packages (from aiohttp->datasets) (4.0.3)\n",
            "Requirement already satisfied: typing-extensions>=3.7.4.3 in /usr/local/lib/python3.10/dist-packages (from huggingface-hub>=0.23.0->datasets) (4.12.2)\n",
            "Requirement already satisfied: charset-normalizer<4,>=2 in /usr/local/lib/python3.10/dist-packages (from requests>=2.32.2->datasets) (3.4.0)\n",
            "Requirement already satisfied: idna<4,>=2.5 in /usr/local/lib/python3.10/dist-packages (from requests>=2.32.2->datasets) (3.10)\n",
            "Requirement already satisfied: urllib3<3,>=1.21.1 in /usr/local/lib/python3.10/dist-packages (from requests>=2.32.2->datasets) (2.2.3)\n",
            "Requirement already satisfied: certifi>=2017.4.17 in /usr/local/lib/python3.10/dist-packages (from requests>=2.32.2->datasets) (2024.8.30)\n",
            "Requirement already satisfied: python-dateutil>=2.8.2 in /usr/local/lib/python3.10/dist-packages (from pandas->datasets) (2.8.2)\n",
            "Requirement already satisfied: pytz>=2020.1 in /usr/local/lib/python3.10/dist-packages (from pandas->datasets) (2024.2)\n",
            "Requirement already satisfied: tzdata>=2022.7 in /usr/local/lib/python3.10/dist-packages (from pandas->datasets) (2024.2)\n",
            "Requirement already satisfied: six>=1.5 in /usr/local/lib/python3.10/dist-packages (from python-dateutil>=2.8.2->pandas->datasets) (1.16.0)\n",
            "Requirement already satisfied: propcache>=0.2.0 in /usr/local/lib/python3.10/dist-packages (from yarl<2.0,>=1.12.0->aiohttp->datasets) (0.2.0)\n",
            "Downloading datasets-3.1.0-py3-none-any.whl (480 kB)\n",
            "\u001b[2K   \u001b[90m━━━━━━━━━━━━━━━━━━━━━━━━━━━━━━━━━━━━━━━━\u001b[0m \u001b[32m480.6/480.6 kB\u001b[0m \u001b[31m8.8 MB/s\u001b[0m eta \u001b[36m0:00:00\u001b[0m\n",
            "\u001b[?25hDownloading dill-0.3.8-py3-none-any.whl (116 kB)\n",
            "\u001b[2K   \u001b[90m━━━━━━━━━━━━━━━━━━━━━━━━━━━━━━━━━━━━━━━━\u001b[0m \u001b[32m116.3/116.3 kB\u001b[0m \u001b[31m5.5 MB/s\u001b[0m eta \u001b[36m0:00:00\u001b[0m\n",
            "\u001b[?25hDownloading fsspec-2024.9.0-py3-none-any.whl (179 kB)\n",
            "\u001b[2K   \u001b[90m━━━━━━━━━━━━━━━━━━━━━━━━━━━━━━━━━━━━━━━━\u001b[0m \u001b[32m179.3/179.3 kB\u001b[0m \u001b[31m3.7 MB/s\u001b[0m eta \u001b[36m0:00:00\u001b[0m\n",
            "\u001b[?25hDownloading multiprocess-0.70.16-py310-none-any.whl (134 kB)\n",
            "\u001b[2K   \u001b[90m━━━━━━━━━━━━━━━━━━━━━━━━━━━━━━━━━━━━━━━━\u001b[0m \u001b[32m134.8/134.8 kB\u001b[0m \u001b[31m4.2 MB/s\u001b[0m eta \u001b[36m0:00:00\u001b[0m\n",
            "\u001b[?25hDownloading xxhash-3.5.0-cp310-cp310-manylinux_2_17_x86_64.manylinux2014_x86_64.whl (194 kB)\n",
            "\u001b[2K   \u001b[90m━━━━━━━━━━━━━━━━━━━━━━━━━━━━━━━━━━━━━━━━\u001b[0m \u001b[32m194.1/194.1 kB\u001b[0m \u001b[31m4.2 MB/s\u001b[0m eta \u001b[36m0:00:00\u001b[0m\n",
            "\u001b[?25hInstalling collected packages: xxhash, fsspec, dill, multiprocess, datasets\n",
            "  Attempting uninstall: fsspec\n",
            "    Found existing installation: fsspec 2024.10.0\n",
            "    Uninstalling fsspec-2024.10.0:\n",
            "      Successfully uninstalled fsspec-2024.10.0\n",
            "\u001b[31mERROR: pip's dependency resolver does not currently take into account all the packages that are installed. This behaviour is the source of the following dependency conflicts.\n",
            "gcsfs 2024.10.0 requires fsspec==2024.10.0, but you have fsspec 2024.9.0 which is incompatible.\u001b[0m\u001b[31m\n",
            "\u001b[0mSuccessfully installed datasets-3.1.0 dill-0.3.8 fsspec-2024.9.0 multiprocess-0.70.16 xxhash-3.5.0\n"
          ]
        }
      ],
      "execution_count": 2
    },
    {
      "cell_type": "code",
      "source": [
        "!pip install torch"
      ],
      "metadata": {
        "id": "YE-MNoFfB539",
        "trusted": true,
        "execution": {
          "iopub.status.busy": "2024-11-05T13:04:17.327447Z",
          "iopub.execute_input": "2024-11-05T13:04:17.327903Z",
          "iopub.status.idle": "2024-11-05T13:04:29.158185Z",
          "shell.execute_reply.started": "2024-11-05T13:04:17.327852Z",
          "shell.execute_reply": "2024-11-05T13:04:29.156973Z"
        },
        "colab": {
          "base_uri": "https://localhost:8080/"
        },
        "outputId": "6f30e493-b0ca-4d7a-88db-f4c044047e19"
      },
      "outputs": [
        {
          "output_type": "stream",
          "name": "stdout",
          "text": [
            "Requirement already satisfied: torch in /usr/local/lib/python3.10/dist-packages (2.5.0+cu121)\n",
            "Requirement already satisfied: filelock in /usr/local/lib/python3.10/dist-packages (from torch) (3.16.1)\n",
            "Requirement already satisfied: typing-extensions>=4.8.0 in /usr/local/lib/python3.10/dist-packages (from torch) (4.12.2)\n",
            "Requirement already satisfied: networkx in /usr/local/lib/python3.10/dist-packages (from torch) (3.4.2)\n",
            "Requirement already satisfied: jinja2 in /usr/local/lib/python3.10/dist-packages (from torch) (3.1.4)\n",
            "Requirement already satisfied: fsspec in /usr/local/lib/python3.10/dist-packages (from torch) (2024.9.0)\n",
            "Requirement already satisfied: sympy==1.13.1 in /usr/local/lib/python3.10/dist-packages (from torch) (1.13.1)\n",
            "Requirement already satisfied: mpmath<1.4,>=1.1.0 in /usr/local/lib/python3.10/dist-packages (from sympy==1.13.1->torch) (1.3.0)\n",
            "Requirement already satisfied: MarkupSafe>=2.0 in /usr/local/lib/python3.10/dist-packages (from jinja2->torch) (3.0.2)\n"
          ]
        }
      ],
      "execution_count": 3
    },
    {
      "cell_type": "code",
      "source": [
        "!pip install nltk"
      ],
      "metadata": {
        "trusted": true,
        "execution": {
          "iopub.status.busy": "2024-11-05T13:04:29.159729Z",
          "iopub.execute_input": "2024-11-05T13:04:29.160190Z",
          "iopub.status.idle": "2024-11-05T13:04:40.952306Z",
          "shell.execute_reply.started": "2024-11-05T13:04:29.160112Z",
          "shell.execute_reply": "2024-11-05T13:04:40.951217Z"
        },
        "colab": {
          "base_uri": "https://localhost:8080/"
        },
        "id": "xkhyh7iLoi76",
        "outputId": "be1023eb-9a54-4fb2-e3f2-3356590d4a92"
      },
      "outputs": [
        {
          "output_type": "stream",
          "name": "stdout",
          "text": [
            "Requirement already satisfied: nltk in /usr/local/lib/python3.10/dist-packages (3.8.1)\n",
            "Requirement already satisfied: click in /usr/local/lib/python3.10/dist-packages (from nltk) (8.1.7)\n",
            "Requirement already satisfied: joblib in /usr/local/lib/python3.10/dist-packages (from nltk) (1.4.2)\n",
            "Requirement already satisfied: regex>=2021.8.3 in /usr/local/lib/python3.10/dist-packages (from nltk) (2024.9.11)\n",
            "Requirement already satisfied: tqdm in /usr/local/lib/python3.10/dist-packages (from nltk) (4.66.6)\n"
          ]
        }
      ],
      "execution_count": 4
    },
    {
      "cell_type": "code",
      "source": [
        "import torch\n",
        "\n",
        "import transformers\n",
        "\n",
        "from transformers import BertTokenizer, BertForSequenceClassification, Trainer, TrainingArguments, EarlyStoppingCallback\n",
        "\n",
        "from datasets import load_dataset\n",
        "\n",
        "from torch.utils.data import DataLoader\n",
        "\n",
        "from sklearn.metrics import accuracy_score, precision_recall_fscore_support\n",
        "\n",
        "import re\n",
        "\n",
        "import nltk\n",
        "\n",
        "import zipfile\n",
        "\n",
        "import os\n",
        "\n",
        "from nltk.corpus import stopwords\n",
        "\n",
        "from nltk.stem import WordNetLemmatizer\n",
        "\n",
        "import matplotlib.pyplot as plt\n",
        "\n",
        "import seaborn as sns\n",
        "\n",
        "import pandas as pd\n",
        "\n",
        "from wordcloud import WordCloud\n"
      ],
      "metadata": {
        "id": "H27Ku7iBjcTY",
        "trusted": true,
        "execution": {
          "iopub.status.busy": "2024-11-05T13:04:40.955794Z",
          "iopub.execute_input": "2024-11-05T13:04:40.956664Z",
          "iopub.status.idle": "2024-11-05T13:04:40.963548Z",
          "shell.execute_reply.started": "2024-11-05T13:04:40.956622Z",
          "shell.execute_reply": "2024-11-05T13:04:40.962703Z"
        }
      },
      "outputs": [],
      "execution_count": 5
    },
    {
      "cell_type": "code",
      "source": [
        "nltk.download('stopwords', download_dir='/root/nltk_data')\n",
        "nltk.download('wordnet', download_dir='/root/nltk_data')\n",
        "nltk.download('omw-1.4', download_dir='/root/nltk_data')"
      ],
      "metadata": {
        "trusted": true,
        "execution": {
          "iopub.status.busy": "2024-11-05T13:04:40.964785Z",
          "iopub.execute_input": "2024-11-05T13:04:40.965096Z",
          "iopub.status.idle": "2024-11-05T13:04:41.062332Z",
          "shell.execute_reply.started": "2024-11-05T13:04:40.965065Z",
          "shell.execute_reply": "2024-11-05T13:04:41.061385Z"
        },
        "colab": {
          "base_uri": "https://localhost:8080/"
        },
        "id": "7cR-x1F6oi76",
        "outputId": "1e439515-de4b-425c-cc1f-39e6779698aa"
      },
      "outputs": [
        {
          "output_type": "stream",
          "name": "stderr",
          "text": [
            "[nltk_data] Downloading package stopwords to /root/nltk_data...\n",
            "[nltk_data]   Unzipping corpora/stopwords.zip.\n",
            "[nltk_data] Downloading package wordnet to /root/nltk_data...\n",
            "[nltk_data] Downloading package omw-1.4 to /root/nltk_data...\n"
          ]
        },
        {
          "output_type": "execute_result",
          "data": {
            "text/plain": [
              "True"
            ]
          },
          "metadata": {},
          "execution_count": 6
        }
      ],
      "execution_count": 6
    },
    {
      "cell_type": "code",
      "source": [
        "print(nltk.data.path)"
      ],
      "metadata": {
        "trusted": true,
        "execution": {
          "iopub.status.busy": "2024-11-05T13:04:41.063479Z",
          "iopub.execute_input": "2024-11-05T13:04:41.063756Z",
          "iopub.status.idle": "2024-11-05T13:04:41.068462Z",
          "shell.execute_reply.started": "2024-11-05T13:04:41.063726Z",
          "shell.execute_reply": "2024-11-05T13:04:41.067622Z"
        },
        "colab": {
          "base_uri": "https://localhost:8080/"
        },
        "id": "Y5m6zmZOoi77",
        "outputId": "dab13409-c6e3-49da-e12e-d618dcd7ce33"
      },
      "outputs": [
        {
          "output_type": "stream",
          "name": "stdout",
          "text": [
            "['/root/nltk_data', '/usr/nltk_data', '/usr/share/nltk_data', '/usr/lib/nltk_data', '/usr/share/nltk_data', '/usr/local/share/nltk_data', '/usr/lib/nltk_data', '/usr/local/lib/nltk_data']\n"
          ]
        }
      ],
      "execution_count": 7
    },
    {
      "cell_type": "code",
      "source": [
        "from nltk.corpus import wordnet"
      ],
      "metadata": {
        "trusted": true,
        "execution": {
          "iopub.status.busy": "2024-11-05T13:04:41.069550Z",
          "iopub.execute_input": "2024-11-05T13:04:41.069864Z",
          "iopub.status.idle": "2024-11-05T13:04:41.079389Z",
          "shell.execute_reply.started": "2024-11-05T13:04:41.069799Z",
          "shell.execute_reply": "2024-11-05T13:04:41.078722Z"
        },
        "id": "4c6Z8hwKoi77"
      },
      "outputs": [],
      "execution_count": 8
    },
    {
      "cell_type": "code",
      "source": [
        "# Define a local directory for nltk_data\n",
        "local_nltk_data_path = './nltk_data'\n",
        "\n",
        "# Create the directory if it doesn't exist\n",
        "os.makedirs(local_nltk_data_path, exist_ok=True)\n",
        "\n",
        "# Download the WordNet corpus in the local directory\n",
        "nltk.download('wordnet', download_dir=local_nltk_data_path)\n",
        "nltk.download('omw-1.4', download_dir=local_nltk_data_path)\n",
        "\n",
        "# Path to the WordNet .zip file\n",
        "wordnet_zip_path = os.path.join(local_nltk_data_path, 'corpora', 'wordnet.zip')\n",
        "\n",
        "# Check if the file was downloaded successfully\n",
        "if os.path.exists(wordnet_zip_path):\n",
        "    # Unzip the .zip file in the same directory\n",
        "    with zipfile.ZipFile(wordnet_zip_path, 'r') as zip_ref:\n",
        "        zip_ref.extractall(os.path.join(local_nltk_data_path, 'corpora'))\n",
        "    print(\"The WordNet file has been successfully unzipped.\")\n",
        "else:\n",
        "    print(\"The WordNet .zip file was not found.\")\n",
        "\n",
        "# Add the local directory to nltk.data.path\n",
        "nltk.data.path.append(local_nltk_data_path)\n",
        "\n",
        "# Check if WordNet is now available\n",
        "try:\n",
        "    from nltk.corpus import wordnet\n",
        "    synsets = wordnet.synsets(\"dog\")\n",
        "    print(\"WordNet is accessible. Example of synsets:\", synsets)\n",
        "except LookupError:\n",
        "    print(\"WordNet is not available even after unzipping.\")\n"
      ],
      "metadata": {
        "trusted": true,
        "execution": {
          "iopub.status.busy": "2024-11-05T13:04:41.080448Z",
          "iopub.execute_input": "2024-11-05T13:04:41.080703Z",
          "iopub.status.idle": "2024-11-05T13:04:41.411454Z",
          "shell.execute_reply.started": "2024-11-05T13:04:41.080674Z",
          "shell.execute_reply": "2024-11-05T13:04:41.410430Z"
        },
        "colab": {
          "base_uri": "https://localhost:8080/"
        },
        "id": "R7Bzhdjwoi77",
        "outputId": "0897eac3-f1fd-47fc-a3e9-a05fb6473178"
      },
      "outputs": [
        {
          "output_type": "stream",
          "name": "stderr",
          "text": [
            "[nltk_data] Downloading package wordnet to ./nltk_data...\n",
            "[nltk_data] Downloading package omw-1.4 to ./nltk_data...\n"
          ]
        },
        {
          "output_type": "stream",
          "name": "stdout",
          "text": [
            "The WordNet file has been successfully unzipped.\n",
            "WordNet is accessible. Example of synsets: [Synset('dog.n.01'), Synset('frump.n.01'), Synset('dog.n.03'), Synset('cad.n.01'), Synset('frank.n.02'), Synset('pawl.n.01'), Synset('andiron.n.01'), Synset('chase.v.01')]\n"
          ]
        }
      ],
      "execution_count": 9
    },
    {
      "cell_type": "markdown",
      "source": [
        "\n",
        "# Load the IMDB dataset 🎬\n",
        "\n",
        "### Now that the libraries are imported, we will load the IMDB dataset for sentiment analysis.\n"
      ],
      "metadata": {
        "id": "FCkXfVDpjlGl"
      }
    },
    {
      "cell_type": "code",
      "source": [
        "dataset = load_dataset(\"imdb\")"
      ],
      "metadata": {
        "id": "dZjUgsRYk1P3",
        "trusted": true,
        "execution": {
          "iopub.status.busy": "2024-11-05T13:04:41.412957Z",
          "iopub.execute_input": "2024-11-05T13:04:41.413341Z",
          "iopub.status.idle": "2024-11-05T13:04:43.385992Z",
          "shell.execute_reply.started": "2024-11-05T13:04:41.413304Z",
          "shell.execute_reply": "2024-11-05T13:04:43.385228Z"
        },
        "colab": {
          "base_uri": "https://localhost:8080/",
          "height": 365,
          "referenced_widgets": [
            "47c70445d5df4d93bb351ec6e551cf0c",
            "a5d0b9dbd0714daf83e6cb3fdb62d7fb",
            "3cdec68988024464850b66377d260300",
            "5e917afc07d6423a8b316caff74aaa65",
            "a16bfc25b4c046cb8d718713475f0245",
            "a0cddc1d011c44e0bea7b236f2f6c7f4",
            "358bed242953482dba6c4ad16c700220",
            "b00024bd671a4e42b8543cfba02e3bdf",
            "e932ae76973448a18e8e11231953d1e9",
            "99fbfd80336d459c840b7e4a81da597a",
            "027f26bb7a1d41f08a855c9edd6f5d13",
            "8fc10b53c63641b9947d6c00f572d923",
            "2890d054729c4fe5a26b3de7147ba136",
            "b76df10f97894afab0e68566d46c1e2f",
            "029edb93b4fe44ed9a9e81d43492cb5b",
            "6b40734bae12407f94e3a441a412eda9",
            "d6f9a8a124054b1c9a6f419b7598f649",
            "76a4cbb4722b40f69eb37a8b7563f6ee",
            "fc450248e29747acba6d86c0fcdb7b77",
            "0e8924d561504750b0020a7fa870b2f2",
            "93e0bace74164c44ac628233fed9ad5d",
            "16aba730727541e6b2a8625407b70fcb",
            "e96f1017351e4dc9871f75d6f7929190",
            "7b74a87659be4a908006d97529bbd6f3",
            "658bc68a8fca4dbe93f1956b9d393dbc",
            "e47ed2e7f93849cb8c3d9de02269d348",
            "96da0cfda9d04177acd62371d5445a12",
            "4e1e284262594454b50e422f8ca25acb",
            "9233f1ca651243abb90657d3f267a04d",
            "8bc63b43545047cb84b64ffd2a2408aa",
            "2c2f1040b13946deb300929617e5f42f",
            "2413896b0b4e4222b9e36980f35b5ced",
            "f9fa91e7ac7e4ecd83e01349bfc42ca4",
            "dc33649eb68b40338d1b255c968c3dce",
            "c382a1cad7db4b268da33880d6ce100d",
            "0819e0ff263e47e59cd850d1a44fcee5",
            "951723e22431481691f106202759f65e",
            "00a8c2cea76f4820a382ce1b7c9c99d8",
            "50e7e5e7736f43468eda73eb572721f5",
            "c13c1902c0eb47b8ab73310ca0e3267e",
            "b8c5a9f3341a4e9a8280092ba8925da9",
            "2fdf10cc12f3496eaafb06a31100a85a",
            "75280e3c3a7d4bdd9c34f5e33b11f21a",
            "cf1b70fd8297462081faf9d63761e30c",
            "4bdd80838cd94556846cc16493a92d7c",
            "50f2442891854d4e900813972ef79f9d",
            "edde94a673d8408cb6d1c3317ec21b18",
            "3b5c36211064469ca8946949af4710e6",
            "5031c3f986e44a9d9cfd5c64eb5ac0db",
            "9331280d98aa4408aecd1a27cfe75c41",
            "165421cf0dc342c0bbb7931b42742ab6",
            "205d63aef28f49beb3edf8f93cc7cf89",
            "7a104de0a1fd4187816cc229457e69ae",
            "d30d70dfa1de4488984c9a0b5671f5b2",
            "b47cbba527f24df7bce3da524ea59d67",
            "1ead679833584ff49a5086bb19fecd21",
            "403a6a74d20449adb3593fd2d20eeddd",
            "98cdfa1953984179a450643e868bfda4",
            "a02f094e671248bf893477da3a555d8d",
            "ec481003b39c4e2db49178631c203854",
            "abde789dc85c4df7bc2e24c1bed7f5bf",
            "ced5c8b1ceaf4c29bf5e2776bc13b358",
            "1ca819d1883e4d82af0c47b23db23bcb",
            "c94397494d6d43a79800b228da721695",
            "8f925f010ac3440db484b412c4481986",
            "b0b3eb095b2647d59901425593023273",
            "cdf6629cdb2b4fbaa6c6e2666385eb41",
            "dfb1d0c8d2674a5392756b90c499628a",
            "1e86d49a93d640cbb26443e67bbec643",
            "64882fba142840c59d551ec502e0312f",
            "5fa49931280b44f7a8a95a8d44427c84",
            "397e36a821e047a782e589a21fd5094d",
            "4674f1704faa4790ab5c78ec722b5368",
            "cf76b42f174f4aea9d77b23c7569aa5c",
            "54fd2033c9fe427db63151de1a9395a4",
            "976aea4d4d8c4325b942d4ed6cec2c65",
            "70e2f0dec1a144d28fbdd82af07a654b"
          ]
        },
        "outputId": "c7594272-a6db-4e52-aa8e-fb6abb778fb6"
      },
      "outputs": [
        {
          "output_type": "stream",
          "name": "stderr",
          "text": [
            "/usr/local/lib/python3.10/dist-packages/huggingface_hub/utils/_token.py:89: UserWarning: \n",
            "The secret `HF_TOKEN` does not exist in your Colab secrets.\n",
            "To authenticate with the Hugging Face Hub, create a token in your settings tab (https://huggingface.co/settings/tokens), set it as secret in your Google Colab and restart your session.\n",
            "You will be able to reuse this secret in all of your notebooks.\n",
            "Please note that authentication is recommended but still optional to access public models or datasets.\n",
            "  warnings.warn(\n"
          ]
        },
        {
          "output_type": "display_data",
          "data": {
            "text/plain": [
              "README.md:   0%|          | 0.00/7.81k [00:00<?, ?B/s]"
            ],
            "application/vnd.jupyter.widget-view+json": {
              "version_major": 2,
              "version_minor": 0,
              "model_id": "47c70445d5df4d93bb351ec6e551cf0c"
            }
          },
          "metadata": {}
        },
        {
          "output_type": "display_data",
          "data": {
            "text/plain": [
              "train-00000-of-00001.parquet:   0%|          | 0.00/21.0M [00:00<?, ?B/s]"
            ],
            "application/vnd.jupyter.widget-view+json": {
              "version_major": 2,
              "version_minor": 0,
              "model_id": "8fc10b53c63641b9947d6c00f572d923"
            }
          },
          "metadata": {}
        },
        {
          "output_type": "display_data",
          "data": {
            "text/plain": [
              "test-00000-of-00001.parquet:   0%|          | 0.00/20.5M [00:00<?, ?B/s]"
            ],
            "application/vnd.jupyter.widget-view+json": {
              "version_major": 2,
              "version_minor": 0,
              "model_id": "e96f1017351e4dc9871f75d6f7929190"
            }
          },
          "metadata": {}
        },
        {
          "output_type": "display_data",
          "data": {
            "text/plain": [
              "unsupervised-00000-of-00001.parquet:   0%|          | 0.00/42.0M [00:00<?, ?B/s]"
            ],
            "application/vnd.jupyter.widget-view+json": {
              "version_major": 2,
              "version_minor": 0,
              "model_id": "dc33649eb68b40338d1b255c968c3dce"
            }
          },
          "metadata": {}
        },
        {
          "output_type": "display_data",
          "data": {
            "text/plain": [
              "Generating train split:   0%|          | 0/25000 [00:00<?, ? examples/s]"
            ],
            "application/vnd.jupyter.widget-view+json": {
              "version_major": 2,
              "version_minor": 0,
              "model_id": "4bdd80838cd94556846cc16493a92d7c"
            }
          },
          "metadata": {}
        },
        {
          "output_type": "display_data",
          "data": {
            "text/plain": [
              "Generating test split:   0%|          | 0/25000 [00:00<?, ? examples/s]"
            ],
            "application/vnd.jupyter.widget-view+json": {
              "version_major": 2,
              "version_minor": 0,
              "model_id": "1ead679833584ff49a5086bb19fecd21"
            }
          },
          "metadata": {}
        },
        {
          "output_type": "display_data",
          "data": {
            "text/plain": [
              "Generating unsupervised split:   0%|          | 0/50000 [00:00<?, ? examples/s]"
            ],
            "application/vnd.jupyter.widget-view+json": {
              "version_major": 2,
              "version_minor": 0,
              "model_id": "cdf6629cdb2b4fbaa6c6e2666385eb41"
            }
          },
          "metadata": {}
        }
      ],
      "execution_count": 10
    },
    {
      "cell_type": "markdown",
      "source": [
        "### Display the first rows of the IMDB dataset to get an idea of the format and content of the data.\n"
      ],
      "metadata": {
        "id": "J9MkWNholH8c"
      }
    },
    {
      "cell_type": "code",
      "source": [
        "# Display information about the dataset\n",
        "\n",
        "print(\"\\nInformations sur le dataset IMDB :\")\n",
        "\n",
        "print(dataset)"
      ],
      "metadata": {
        "id": "8leFs7KUmkix",
        "trusted": true,
        "execution": {
          "iopub.status.busy": "2024-11-05T13:04:43.388580Z",
          "iopub.execute_input": "2024-11-05T13:04:43.388911Z",
          "iopub.status.idle": "2024-11-05T13:04:43.394001Z",
          "shell.execute_reply.started": "2024-11-05T13:04:43.388877Z",
          "shell.execute_reply": "2024-11-05T13:04:43.393133Z"
        },
        "colab": {
          "base_uri": "https://localhost:8080/"
        },
        "outputId": "6a356e78-ae31-4f4f-a134-f8ca2b5ee2a6"
      },
      "outputs": [
        {
          "output_type": "stream",
          "name": "stdout",
          "text": [
            "\n",
            "Informations sur le dataset IMDB :\n",
            "DatasetDict({\n",
            "    train: Dataset({\n",
            "        features: ['text', 'label'],\n",
            "        num_rows: 25000\n",
            "    })\n",
            "    test: Dataset({\n",
            "        features: ['text', 'label'],\n",
            "        num_rows: 25000\n",
            "    })\n",
            "    unsupervised: Dataset({\n",
            "        features: ['text', 'label'],\n",
            "        num_rows: 50000\n",
            "    })\n",
            "})\n"
          ]
        }
      ],
      "execution_count": 11
    },
    {
      "cell_type": "code",
      "source": [
        "# Display the first rows of the dataset\n",
        "\n",
        "print(\"Les premières lignes du dataset IMDB :\")\n",
        "\n",
        "print(dataset['train'][0])"
      ],
      "metadata": {
        "id": "hFGFeS8ulISI",
        "trusted": true,
        "execution": {
          "iopub.status.busy": "2024-11-05T13:04:43.395439Z",
          "iopub.execute_input": "2024-11-05T13:04:43.395791Z",
          "iopub.status.idle": "2024-11-05T13:04:43.408228Z",
          "shell.execute_reply.started": "2024-11-05T13:04:43.395745Z",
          "shell.execute_reply": "2024-11-05T13:04:43.407392Z"
        },
        "colab": {
          "base_uri": "https://localhost:8080/"
        },
        "outputId": "5374cf49-6aff-4192-89ee-afb9be98236a"
      },
      "outputs": [
        {
          "output_type": "stream",
          "name": "stdout",
          "text": [
            "Les premières lignes du dataset IMDB :\n",
            "{'text': 'I rented I AM CURIOUS-YELLOW from my video store because of all the controversy that surrounded it when it was first released in 1967. I also heard that at first it was seized by U.S. customs if it ever tried to enter this country, therefore being a fan of films considered \"controversial\" I really had to see this for myself.<br /><br />The plot is centered around a young Swedish drama student named Lena who wants to learn everything she can about life. In particular she wants to focus her attentions to making some sort of documentary on what the average Swede thought about certain political issues such as the Vietnam War and race issues in the United States. In between asking politicians and ordinary denizens of Stockholm about their opinions on politics, she has sex with her drama teacher, classmates, and married men.<br /><br />What kills me about I AM CURIOUS-YELLOW is that 40 years ago, this was considered pornographic. Really, the sex and nudity scenes are few and far between, even then it\\'s not shot like some cheaply made porno. While my countrymen mind find it shocking, in reality sex and nudity are a major staple in Swedish cinema. Even Ingmar Bergman, arguably their answer to good old boy John Ford, had sex scenes in his films.<br /><br />I do commend the filmmakers for the fact that any sex shown in the film is shown for artistic purposes rather than just to shock people and make money to be shown in pornographic theaters in America. I AM CURIOUS-YELLOW is a good film for anyone wanting to study the meat and potatoes (no pun intended) of Swedish cinema. But really, this film doesn\\'t have much of a plot.', 'label': 0}\n"
          ]
        }
      ],
      "execution_count": 12
    },
    {
      "cell_type": "markdown",
      "source": [
        "## Initial Data Visualization 📊"
      ],
      "metadata": {
        "id": "4P-dzee1mExr"
      }
    },
    {
      "cell_type": "code",
      "source": [
        "# Function to visualize the class distribution (positive/negative) in the IMDB dataset\n",
        "\n",
        "def visualize_initial_data(dataset):\n",
        "    labels = [example['label'] for example in dataset['train']]\n",
        "\n",
        "    sns.countplot(x=labels)\n",
        "\n",
        "    plt.xlabel('Label')\n",
        "    plt.ylabel('Count')\n",
        "    plt.title('Class Distribution in the IMDB Dataset')\n",
        "    plt.show()\n",
        "\n",
        "# Call the function to visualize the data\n",
        "visualize_initial_data(dataset)\n"
      ],
      "metadata": {
        "id": "MPRV-cXolc7J",
        "trusted": true,
        "execution": {
          "iopub.status.busy": "2024-11-05T13:04:43.409498Z",
          "iopub.execute_input": "2024-11-05T13:04:43.410181Z",
          "iopub.status.idle": "2024-11-05T13:04:44.663149Z",
          "shell.execute_reply.started": "2024-11-05T13:04:43.410135Z",
          "shell.execute_reply": "2024-11-05T13:04:44.662118Z"
        },
        "colab": {
          "base_uri": "https://localhost:8080/",
          "height": 472
        },
        "outputId": "c5480291-63f5-4bc2-c0c5-f26d51872a27"
      },
      "outputs": [
        {
          "output_type": "display_data",
          "data": {
            "text/plain": [
              "<Figure size 640x480 with 1 Axes>"
            ],
            "image/png": "[encoded data removed]"
          },
          "metadata": {}
        }
      ],
      "execution_count": 13
    },
    {
      "cell_type": "markdown",
      "source": [
        "Based on the boxplots obtained above 📊, the data appears to be well-balanced ⚖️, with an even distribution between the two labels (0 for negative sentiments 😠 and 1 for positive sentiments 😊). This suggests that it is likely unnecessary to apply class rebalancing techniques such as undersampling 🔽 or oversampling 🔼 to correct for any potential imbalance.\n",
        "\n",
        "💡 This balanced distribution can therefore promote better performance for classification models 🤖 by reducing potential bias toward a specific class."
      ],
      "metadata": {
        "id": "uSYAu-yIno5x"
      }
    },
    {
      "cell_type": "markdown",
      "source": [
        "\n",
        "## Word Cloud Visualization ☁️\n",
        "\n",
        "Let's move on to a fun visualization! We'll generate a word cloud to see **the most frequent terms** in **the reviews**.\n"
      ],
      "metadata": {
        "id": "ULc4XC4UrGI3"
      }
    },
    {
      "cell_type": "code",
      "source": [
        "# Generate a word cloud to see the most frequent terms in the reviews of the IMDB dataset.\n",
        "\n",
        "def visualize_word_cloud(dataset):\n",
        "    text = ' '.join([example['text'] for example in dataset['train'].select(range(1000))])\n",
        "\n",
        "    wordcloud = WordCloud(width=800, height=400, background_color='white').generate(text)\n",
        "\n",
        "    plt.figure(figsize=(10, 5))\n",
        "    plt.imshow(wordcloud, interpolation='bilinear')\n",
        "    plt.axis('off')\n",
        "    plt.title('Word Cloud of IMDB Dataset Reviews')\n",
        "    plt.show()\n",
        "\n",
        "visualize_word_cloud(dataset)\n"
      ],
      "metadata": {
        "id": "QMP2UFN9nKAC",
        "trusted": true,
        "execution": {
          "iopub.status.busy": "2024-11-05T13:04:44.664387Z",
          "iopub.execute_input": "2024-11-05T13:04:44.664696Z",
          "iopub.status.idle": "2024-11-05T13:04:46.562425Z",
          "shell.execute_reply.started": "2024-11-05T13:04:44.664664Z",
          "shell.execute_reply": "2024-11-05T13:04:46.561401Z"
        },
        "colab": {
          "base_uri": "https://localhost:8080/",
          "height": 444
        },
        "outputId": "131c944b-9b68-499f-fb43-a05e42b3225f"
      },
      "outputs": [
        {
          "output_type": "display_data",
          "data": {
            "text/plain": [
              "<Figure size 1000x500 with 1 Axes>"
            ],
            "image/png": "[encoded data removed]"
          },
          "metadata": {}
        }
      ],
      "execution_count": 14
    },
    {
      "cell_type": "markdown",
      "source": [
        "## Data Preprocessing: Stop Word Removal (remove unnecessary words ❌), Lemmatization, etc.\n",
        "\n",
        "Preprocessing is essential to clean the text and improve the quality of the input data.\n",
        "\n",
        "**Note ❗**:\n",
        "\n",
        "**Lemmatization** involves reducing each word to its base form or \"lemma\" using linguistic rules.\n",
        "\n",
        "For example:\n",
        "\n",
        "* **running** becomes **run**\n",
        "* **children** becomes **child**\n",
        "* **better** becomes **good**\n",
        "\n",
        "Lemmatization differs from stemming, which simply cuts off word endings without necessarily resulting in complete and correct words.\n",
        "\n",
        "Lemmatization, on the other hand, uses a dictionary to find the correct base form, making it more precise and suited for semantic analyses."
      ],
      "metadata": {
        "id": "iFU9qJLKth_D"
      }
    },
    {
      "cell_type": "code",
      "source": [
        "# Preprocessing function to clean the text by removing HTML tags, special characters, and applying lemmatization.\n",
        "\n",
        "def preprocess_text(text):\n",
        "    # Convert to lowercase\n",
        "    text = text.lower()\n",
        "\n",
        "    # Remove special characters and numbers\n",
        "    text = re.sub(r'[^a-zA-Z\\s]', ' ', text)\n",
        "\n",
        "    # Remove extra spaces\n",
        "    text = re.sub(r'\\s+', ' ', text).strip()\n",
        "\n",
        "    # Remove HTML tags (if present)\n",
        "    text = re.sub(r'<.*?>', '', text)\n",
        "\n",
        "    # Remove stop words\n",
        "    stop_words = set(stopwords.words('english'))\n",
        "    text = ' '.join([word for word in text.split() if word not in stop_words])\n",
        "\n",
        "    # Lemmatization\n",
        "    lemmatizer = WordNetLemmatizer()\n",
        "    text = ' '.join([lemmatizer.lemmatize(word) for word in text.split()])\n",
        "\n",
        "    return text\n"
      ],
      "metadata": {
        "id": "zOZ0aqpBnJ5_",
        "trusted": true,
        "execution": {
          "iopub.status.busy": "2024-11-05T13:04:46.563703Z",
          "iopub.execute_input": "2024-11-05T13:04:46.564030Z",
          "iopub.status.idle": "2024-11-05T13:04:46.571289Z",
          "shell.execute_reply.started": "2024-11-05T13:04:46.563996Z",
          "shell.execute_reply": "2024-11-05T13:04:46.570437Z"
        }
      },
      "outputs": [],
      "execution_count": 15
    },
    {
      "cell_type": "markdown",
      "source": [
        "## Visualization of a Text Example Before and After Preprocessing 🔍\n",
        "\n",
        "Let's take a look at the effect of preprocessing on a sample text before moving forward.\n"
      ],
      "metadata": {
        "id": "qwkRWqtxwQsy"
      }
    },
    {
      "cell_type": "code",
      "source": [
        "# Display a text example before and after preprocessing to visualize the effects.\n",
        "\n",
        "original_text = dataset['train'][0]['text']\n",
        "preprocessed_text = preprocess_text(original_text)\n",
        "\n",
        "print(\"Text example before preprocessing:\")\n",
        "print(original_text)\n",
        "\n",
        "print(\"\\nText example after preprocessing:\")\n",
        "print(preprocessed_text)\n"
      ],
      "metadata": {
        "id": "zQfl5XxGu00R",
        "trusted": true,
        "execution": {
          "iopub.status.busy": "2024-11-05T13:04:46.572429Z",
          "iopub.execute_input": "2024-11-05T13:04:46.572724Z",
          "iopub.status.idle": "2024-11-05T13:04:46.642907Z",
          "shell.execute_reply.started": "2024-11-05T13:04:46.572691Z",
          "shell.execute_reply": "2024-11-05T13:04:46.641947Z"
        },
        "colab": {
          "base_uri": "https://localhost:8080/"
        },
        "outputId": "b65c841e-f4a3-4277-cf0c-eb8f689d47ea"
      },
      "outputs": [
        {
          "output_type": "stream",
          "name": "stdout",
          "text": [
            "Text example before preprocessing:\n",
            "I rented I AM CURIOUS-YELLOW from my video store because of all the controversy that surrounded it when it was first released in 1967. I also heard that at first it was seized by U.S. customs if it ever tried to enter this country, therefore being a fan of films considered \"controversial\" I really had to see this for myself.<br /><br />The plot is centered around a young Swedish drama student named Lena who wants to learn everything she can about life. In particular she wants to focus her attentions to making some sort of documentary on what the average Swede thought about certain political issues such as the Vietnam War and race issues in the United States. In between asking politicians and ordinary denizens of Stockholm about their opinions on politics, she has sex with her drama teacher, classmates, and married men.<br /><br />What kills me about I AM CURIOUS-YELLOW is that 40 years ago, this was considered pornographic. Really, the sex and nudity scenes are few and far between, even then it's not shot like some cheaply made porno. While my countrymen mind find it shocking, in reality sex and nudity are a major staple in Swedish cinema. Even Ingmar Bergman, arguably their answer to good old boy John Ford, had sex scenes in his films.<br /><br />I do commend the filmmakers for the fact that any sex shown in the film is shown for artistic purposes rather than just to shock people and make money to be shown in pornographic theaters in America. I AM CURIOUS-YELLOW is a good film for anyone wanting to study the meat and potatoes (no pun intended) of Swedish cinema. But really, this film doesn't have much of a plot.\n",
            "\n",
            "Text example after preprocessing:\n",
            "rented curious yellow video store controversy surrounded first released also heard first seized u custom ever tried enter country therefore fan film considered controversial really see br br plot centered around young swedish drama student named lena want learn everything life particular want focus attention making sort documentary average swede thought certain political issue vietnam war race issue united state asking politician ordinary denizen stockholm opinion politics sex drama teacher classmate married men br br kill curious yellow year ago considered pornographic really sex nudity scene far even shot like cheaply made porno countryman mind find shocking reality sex nudity major staple swedish cinema even ingmar bergman arguably answer good old boy john ford sex scene film br br commend filmmaker fact sex shown film shown artistic purpose rather shock people make money shown pornographic theater america curious yellow good film anyone wanting study meat potato pun intended swedish cinema really film much plot\n"
          ]
        }
      ],
      "execution_count": 16
    },
    {
      "cell_type": "markdown",
      "source": [
        "\n",
        "## Data Tokenization 📝\n",
        "\n",
        "### Now that we have preprocessed our texts, let’s move on to tokenization with the BERT tokenizer.\n",
        "**Load the BERT Tokenizer 🔄**\n",
        "\n",
        "To prepare our data for training, we need to tokenize it. We will use the BERT tokenizer.\n"
      ],
      "metadata": {
        "id": "asfpe9c_rvFk"
      }
    },
    {
      "cell_type": "code",
      "source": [
        "tokenizer = BertTokenizer.from_pretrained(\"bert-base-uncased\")"
      ],
      "metadata": {
        "id": "9jt1tsHnnJ8m",
        "trusted": true,
        "execution": {
          "iopub.status.busy": "2024-11-05T13:05:10.805908Z",
          "iopub.execute_input": "2024-11-05T13:05:10.806288Z",
          "iopub.status.idle": "2024-11-05T13:05:10.954163Z",
          "shell.execute_reply.started": "2024-11-05T13:05:10.806253Z",
          "shell.execute_reply": "2024-11-05T13:05:10.953183Z"
        }
      },
      "outputs": [],
      "execution_count": null
    },
    {
      "cell_type": "markdown",
      "source": [
        "The **BERT base uncased** model does not consider case differences.\n",
        "\n",
        "This means that the tokenizer converts **all characters** to **lowercase** before processing.\n",
        "\n",
        "As a result, **Hello, HELLO**, and **hello** will all be tokenized in the **same way**.\n",
        "\n",
        "**Note ❗**: The *uncased* approach is often used when case sensitivity (uppercase/lowercase) is not important in the analysis context, such as for general *text classification* tasks, as it reduces the number of distinct tokens and improves generalization."
      ],
      "metadata": {
        "id": "tdM_pHMTsxyY"
      }
    },
    {
      "cell_type": "markdown",
      "source": [
        "Now we will tokenize the preprocessed texts using the previously initialized BERT tokenizer 👍\n",
        "\n",
        "\n",
        "\n",
        "\n",
        "\n",
        "\n"
      ],
      "metadata": {
        "id": "P1APEKGU1gV2"
      }
    },
    {
      "cell_type": "code",
      "source": [
        "def tokenize_function(examples):\n",
        "\n",
        "    examples[\"text\"] = [preprocess_text(text) for text in examples[\"text\"]]\n",
        "\n",
        "    return tokenizer(examples[\"text\"], padding=\"max_length\", truncation=True)\n",
        "\n",
        "\n",
        "\n",
        "tokenized_datasets = dataset.map(tokenize_function, batched=True)"
      ],
      "metadata": {
        "id": "CYe5tdFO1R4l",
        "trusted": true,
        "execution": {
          "iopub.status.busy": "2024-11-05T13:05:17.865421Z",
          "iopub.execute_input": "2024-11-05T13:05:17.866212Z",
          "iopub.status.idle": "2024-11-05T13:16:42.880529Z",
          "shell.execute_reply.started": "2024-11-05T13:05:17.866170Z",
          "shell.execute_reply": "2024-11-05T13:16:42.879595Z"
        },
        "colab": {
          "referenced_widgets": [
            "1de2721b85ba46b7a1ee2f373009367c",
            "05ed1fd67e6b42c5ac8edb6167fefb0d",
            "6263d4318872468c86ca843204375dd0"
          ]
        },
        "outputId": "27985ee7-9652-492b-fa41-3ff1fc917862"
      },
      "outputs": [
        {
          "output_type": "display_data",
          "data": {
            "text/plain": "Map:   0%|          | 0/25000 [00:00<?, ? examples/s]",
            "application/vnd.jupyter.widget-view+json": {
              "version_major": 2,
              "version_minor": 0,
              "model_id": "1de2721b85ba46b7a1ee2f373009367c"
            }
          },
          "metadata": {}
        },
        {
          "output_type": "display_data",
          "data": {
            "text/plain": "Map:   0%|          | 0/25000 [00:00<?, ? examples/s]",
            "application/vnd.jupyter.widget-view+json": {
              "version_major": 2,
              "version_minor": 0,
              "model_id": "05ed1fd67e6b42c5ac8edb6167fefb0d"
            }
          },
          "metadata": {}
        },
        {
          "output_type": "display_data",
          "data": {
            "text/plain": "Map:   0%|          | 0/50000 [00:00<?, ? examples/s]",
            "application/vnd.jupyter.widget-view+json": {
              "version_major": 2,
              "version_minor": 0,
              "model_id": "6263d4318872468c86ca843204375dd0"
            }
          },
          "metadata": {}
        }
      ],
      "execution_count": null
    },
    {
      "cell_type": "code",
      "source": [
        "print(tokenized_datasets)"
      ],
      "metadata": {
        "id": "JcAg5OlV549i",
        "trusted": true,
        "execution": {
          "iopub.status.busy": "2024-11-05T13:16:49.458362Z",
          "iopub.execute_input": "2024-11-05T13:16:49.459146Z",
          "iopub.status.idle": "2024-11-05T13:16:49.464215Z",
          "shell.execute_reply.started": "2024-11-05T13:16:49.459099Z",
          "shell.execute_reply": "2024-11-05T13:16:49.463281Z"
        },
        "outputId": "5a56bb1b-510c-4b75-ba40-93c07a9043e0"
      },
      "outputs": [
        {
          "name": "stdout",
          "text": "DatasetDict({\n    train: Dataset({\n        features: ['text', 'label', 'input_ids', 'token_type_ids', 'attention_mask'],\n        num_rows: 25000\n    })\n    test: Dataset({\n        features: ['text', 'label', 'input_ids', 'token_type_ids', 'attention_mask'],\n        num_rows: 25000\n    })\n    unsupervised: Dataset({\n        features: ['text', 'label', 'input_ids', 'token_type_ids', 'attention_mask'],\n        num_rows: 50000\n    })\n})\n",
          "output_type": "stream"
        }
      ],
      "execution_count": null
    },
    {
      "cell_type": "markdown",
      "source": [
        "## Visualization of Token Lengths After Tokenization 📏\n",
        "\n",
        "Let’s see the distribution of sequence lengths after tokenization.\n",
        "\n"
      ],
      "metadata": {
        "id": "giBzjCGowzSV"
      }
    },
    {
      "cell_type": "code",
      "source": [
        "# Function to visualize the distribution of sequence lengths after tokenization.\n",
        "\n",
        "def visualize_token_lengths(tokenized_datasets):\n",
        "\n",
        "    lengths = [len(tokenizer.encode(example['text'], truncation=True)) for example in dataset['train']]\n",
        "\n",
        "    plt.hist(lengths, bins=50, color='blue', alpha=0.7)\n",
        "\n",
        "    plt.xlabel('Nombre de tokens')\n",
        "\n",
        "    plt.ylabel(\"Nombre d'échantillons\")\n",
        "\n",
        "    plt.title('Distribution des longueurs de séquence après tokenisation')\n",
        "\n",
        "    plt.show()\n",
        "\n",
        "\n",
        "\n",
        "visualize_token_lengths(dataset)"
      ],
      "metadata": {
        "id": "PA5gSr7jw5ct",
        "trusted": true,
        "execution": {
          "iopub.status.busy": "2024-11-05T13:16:57.511435Z",
          "iopub.execute_input": "2024-11-05T13:16:57.512324Z",
          "iopub.status.idle": "2024-11-05T13:20:44.301597Z",
          "shell.execute_reply.started": "2024-11-05T13:16:57.512281Z",
          "shell.execute_reply": "2024-11-05T13:20:44.300650Z"
        },
        "outputId": "14a111f5-d419-457c-de43-6e8350d230ba"
      },
      "outputs": [
        {
          "output_type": "display_data",
          "data": {
            "text/plain": "<Figure size 640x480 with 1 Axes>",
            "image/png": "[encoded data removed]"
          },
          "metadata": {}
        }
      ],
      "execution_count": null
    },
    {
      "cell_type": "markdown",
      "source": [
        "# BERT for Sequence Classification 🤖\n",
        "\n",
        "## It's time to load our pre-trained BERT model for sentiment analysis.\n"
      ],
      "metadata": {
        "id": "g2vLJX_SyINj"
      }
    },
    {
      "cell_type": "code",
      "source": [
        "# Loading the pre-trained BERT model for binary sequence classification (positive/negative).\n",
        "\n",
        "model = BertForSequenceClassification.from_pretrained(\"bert-base-uncased\", num_labels=2)"
      ],
      "metadata": {
        "id": "iOfPF2inyI6_",
        "trusted": true,
        "execution": {
          "iopub.status.busy": "2024-11-05T13:20:59.177110Z",
          "iopub.execute_input": "2024-11-05T13:20:59.177514Z",
          "iopub.status.idle": "2024-11-05T13:21:01.611938Z",
          "shell.execute_reply.started": "2024-11-05T13:20:59.177476Z",
          "shell.execute_reply": "2024-11-05T13:21:01.611207Z"
        },
        "colab": {
          "referenced_widgets": [
            "722bcfb62ccd41ab97d1e5288f7a54ce"
          ]
        },
        "outputId": "57650cf2-6fb7-4324-f1ba-3a24dcfe2bbd"
      },
      "outputs": [
        {
          "output_type": "display_data",
          "data": {
            "text/plain": "model.safetensors:   0%|          | 0.00/440M [00:00<?, ?B/s]",
            "application/vnd.jupyter.widget-view+json": {
              "version_major": 2,
              "version_minor": 0,
              "model_id": "722bcfb62ccd41ab97d1e5288f7a54ce"
            }
          },
          "metadata": {}
        },
        {
          "name": "stderr",
          "text": "Some weights of BertForSequenceClassification were not initialized from the model checkpoint at bert-base-uncased and are newly initialized: ['classifier.bias', 'classifier.weight']\nYou should probably TRAIN this model on a down-stream task to be able to use it for predictions and inference.\n",
          "output_type": "stream"
        }
      ],
      "execution_count": null
    },
    {
      "cell_type": "code",
      "source": [
        "# Prepare the DataLoaders for training and validation\n",
        "\n",
        "train_dataloader = DataLoader(tokenized_datasets[\"train\"], batch_size=8, shuffle=True)\n",
        "\n",
        "eval_dataloader = DataLoader(tokenized_datasets[\"test\"], batch_size=8)"
      ],
      "metadata": {
        "id": "ubcZIEnW2oxA",
        "trusted": true,
        "execution": {
          "iopub.status.busy": "2024-11-05T13:21:38.388125Z",
          "iopub.execute_input": "2024-11-05T13:21:38.388838Z",
          "iopub.status.idle": "2024-11-05T13:21:38.393498Z",
          "shell.execute_reply.started": "2024-11-05T13:21:38.388789Z",
          "shell.execute_reply": "2024-11-05T13:21:38.392618Z"
        }
      },
      "outputs": [],
      "execution_count": null
    },
    {
      "cell_type": "markdown",
      "source": [
        "# BERT FINE-TUNING ⚙️\n",
        "\n",
        "## Define Training Arguments ⚡\n",
        "\n",
        "Details of the **TrainingArguments** parameters ⁉\n",
        "\n",
        "**output_dir**: Specifies the directory where training results (such as model checkpoints) will be saved. Here, it’s set to `./results`.\n",
        "\n",
        "**evaluation_strategy**: Defines how often the model is evaluated. \"epoch\" means the model will be evaluated at the end of each epoch (i.e., after all the training data has been processed once).\n",
        "\n",
        "**learning_rate**: The learning rate, set here to 2e-5. This parameter controls how quickly the model adjusts its weights during training. A rate too high can cause divergence, while a rate too low can slow down training.\n",
        "\n",
        "**per_device_train_batch_size**: Training batch size per device (GPU or CPU). Here, the model will use 8 examples per batch during training.\n",
        "\n",
        "**per_device_eval_batch_size**: Evaluation batch size per device. Here, it’s also 8, meaning the model will process 8 examples at a time during evaluation.\n",
        "\n",
        "**num_train_epochs**: Number of epochs, or how many times the model will see the entire training dataset. Here, it’s set to 3, so the model will pass over the dataset three times.\n",
        "\n",
        "**weight_decay**: Weight decay rate, set here to 0.01. This regularization technique reduces the weight values to avoid overfitting.\n",
        "\n",
        "**logging_dir**: Path to save logs, set here to `./logs`. These logs include tracking information for training, such as loss and accuracy.\n",
        "\n",
        "**logging_steps**: Logging frequency during training. Here, information will be logged every 10 steps, providing regular updates on training progress."
      ],
      "metadata": {
        "id": "KodcloM9yIGl"
      }
    },
    {
      "cell_type": "code",
      "source": [
        "#Définissons les paramètres pour l'entraînement de notre modèle, tels que le taux d'apprentissage et la taille des lots.\n",
        "\n",
        "training_args = TrainingArguments(\n",
        "\n",
        "    output_dir=\"./results\",\n",
        "\n",
        "    evaluation_strategy=\"epoch\",  # évaluation à chaque époque\n",
        "\n",
        "    save_strategy=\"epoch\",  # sauvegarde du modèle à chaque époque\n",
        "\n",
        "    save_total_limit=2,  # nombre max de checkpoints sauvegardés pour éviter l'accumulation\n",
        "\n",
        "    learning_rate=2e-5,\n",
        "\n",
        "    per_device_train_batch_size=8,\n",
        "\n",
        "    per_device_eval_batch_size=8,\n",
        "\n",
        "    num_train_epochs=3,\n",
        "\n",
        "    weight_decay=0.01, #Cela indiquera au formateur d'appliquer une perte de poids lors de l'utilisation d'AdamW.\n",
        "\n",
        "    logging_dir='./logs',\n",
        "\n",
        "    logging_steps=10,\n",
        "\n",
        "    load_best_model_at_end=True,\n",
        "\n",
        ")"
      ],
      "metadata": {
        "id": "wq-arnOHzWSk",
        "trusted": true,
        "execution": {
          "iopub.status.busy": "2024-11-05T13:26:17.261598Z",
          "iopub.execute_input": "2024-11-05T13:26:17.262075Z",
          "iopub.status.idle": "2024-11-05T13:26:17.300602Z",
          "shell.execute_reply.started": "2024-11-05T13:26:17.262033Z",
          "shell.execute_reply": "2024-11-05T13:26:17.299584Z"
        },
        "outputId": "ce3d40ae-6d98-479f-ef22-1cb4cc2f6b7f"
      },
      "outputs": [
        {
          "name": "stderr",
          "text": "/opt/conda/lib/python3.10/site-packages/transformers/training_args.py:1545: FutureWarning: `evaluation_strategy` is deprecated and will be removed in version 4.46 of 🤗 Transformers. Use `eval_strategy` instead\n  warnings.warn(\n",
          "output_type": "stream"
        }
      ],
      "execution_count": null
    },
    {
      "cell_type": "markdown",
      "source": [
        "## Define Accuracy Functions 🎯\n"
      ],
      "metadata": {
        "id": "2_BBdkDs0ILU"
      }
    },
    {
      "cell_type": "code",
      "source": [
        "def compute_metrics(eval_pred):\n",
        "\n",
        "    logits, labels = eval_pred\n",
        "\n",
        "    # Convert logits to a PyTorch tensor\n",
        "\n",
        "    logits = torch.from_numpy(logits)\n",
        "\n",
        "    predictions = torch.argmax(logits, axis=-1)\n",
        "\n",
        "    precision, recall, f1, _ = precision_recall_fscore_support(labels, predictions, average='binary')\n",
        "\n",
        "    acc = accuracy_score(labels, predictions)\n",
        "\n",
        "    return {\n",
        "\n",
        "        'accuracy': acc,\n",
        "\n",
        "        'f1': f1,\n",
        "\n",
        "        'precision': precision,\n",
        "\n",
        "        'recall': recall\n",
        "\n",
        "    }"
      ],
      "metadata": {
        "id": "7CET1t130ImT",
        "trusted": true,
        "execution": {
          "iopub.status.busy": "2024-11-05T13:26:29.036852Z",
          "iopub.execute_input": "2024-11-05T13:26:29.037782Z",
          "iopub.status.idle": "2024-11-05T13:26:29.045267Z",
          "shell.execute_reply.started": "2024-11-05T13:26:29.037738Z",
          "shell.execute_reply": "2024-11-05T13:26:29.044230Z"
        }
      },
      "outputs": [],
      "execution_count": null
    },
    {
      "cell_type": "markdown",
      "source": [
        "## Create the Trainer Object 🏋️‍♂️\n"
      ],
      "metadata": {
        "id": "DKhY5K9S0daW"
      }
    },
    {
      "cell_type": "markdown",
      "source": [
        "The code above creates a **Trainer object** from the **Hugging Face** library, which simplifies and organizes the process of training (**or fine-tuning**) a model.\n",
        "\n",
        "Explanation of the Trainer parameters:\n",
        "\n",
        "* **model=model**: The BERT model (or another pre-trained model) you want to fine-tune on your dataset. This model was initialized and loaded earlier in the code.\n",
        "\n",
        "* **args=training_args**: The training parameters defined previously with TrainingArguments, which include details like learning rate, batch size, number of epochs, output directory, etc.\n",
        "\n",
        "* **train_dataset=tokenized_datasets[\"train\"]**: The training dataset. It needs to be tokenized (prepared for the model) and is specified here so the Trainer knows which data to use for training.\n",
        "\n",
        "* **eval_dataset=tokenized_datasets[\"test\"]**: The evaluation dataset. This allows the Trainer to periodically evaluate the model (e.g., at the end of each epoch) to monitor performance on data the model hasn't seen yet. This helps prevent overfitting.\n",
        "\n",
        "* **compute_metrics=compute_metrics**: A custom function that calculates evaluation metrics (such as accuracy, precision, recall, F1 score, etc.). The Trainer uses this function to display performance information after each evaluation."
      ],
      "metadata": {
        "id": "XcTRY8ZW5Vf4"
      }
    },
    {
      "cell_type": "code",
      "source": [
        "# Now let's create the Trainer object that will help us train our model.\n",
        "\n",
        "trainer = Trainer(\n",
        "\n",
        "    model=model,\n",
        "\n",
        "    args=training_args,\n",
        "\n",
        "    train_dataset=tokenized_datasets[\"train\"],\n",
        "\n",
        "    eval_dataset=tokenized_datasets[\"test\"],\n",
        "\n",
        "    compute_metrics=compute_metrics,\n",
        "\n",
        "    callbacks=[EarlyStoppingCallback(early_stopping_patience=3)]  # Arrête après 3 périodes sans amélioration\n",
        "\n",
        ")"
      ],
      "metadata": {
        "id": "qyf9PE1T0c6C",
        "trusted": true,
        "execution": {
          "iopub.status.busy": "2024-11-05T13:26:32.408841Z",
          "iopub.execute_input": "2024-11-05T13:26:32.409508Z",
          "iopub.status.idle": "2024-11-05T13:26:32.434024Z",
          "shell.execute_reply.started": "2024-11-05T13:26:32.409467Z",
          "shell.execute_reply": "2024-11-05T13:26:32.433323Z"
        }
      },
      "outputs": [],
      "execution_count": null
    },
    {
      "cell_type": "markdown",
      "source": [
        "# Model Training 🚀\n"
      ],
      "metadata": {
        "id": "TjjgEoYQ6KU1"
      }
    },
    {
      "cell_type": "code",
      "source": [
        "# Let's proceed with training the model on our preprocessed and tokenized dataset.\n",
        "\n",
        "trainer.train()"
      ],
      "metadata": {
        "id": "gQEtOiUB0Oxf",
        "trusted": true,
        "execution": {
          "iopub.status.busy": "2024-11-05T13:29:14.404870Z",
          "iopub.execute_input": "2024-11-05T13:29:14.405269Z",
          "iopub.status.idle": "2024-11-05T14:59:07.858030Z",
          "shell.execute_reply.started": "2024-11-05T13:29:14.405229Z",
          "shell.execute_reply": "2024-11-05T14:59:07.857197Z"
        },
        "outputId": "6f172079-49d4-4f5b-dbe8-f72ca783a4ac"
      },
      "outputs": [
        {
          "output_type": "display_data",
          "data": {
            "text/plain": "<IPython.core.display.HTML object>",
            "text/html": "\n    <div>\n      \n      <progress value='4689' max='4689' style='width:300px; height:20px; vertical-align: middle;'></progress>\n      [4689/4689 1:29:51, Epoch 3/3]\n    </div>\n    <table border=\"1\" class=\"dataframe\">\n  <thead>\n <tr style=\"text-align: left;\">\n      <th>Epoch</th>\n      <th>Training Loss</th>\n      <th>Validation Loss</th>\n      <th>Accuracy</th>\n      <th>F1</th>\n      <th>Precision</th>\n      <th>Recall</th>\n    </tr>\n  </thead>\n  <tbody>\n    <tr>\n      <td>1</td>\n      <td>0.202400</td>\n      <td>0.234773</td>\n      <td>0.908480</td>\n      <td>0.908098</td>\n      <td>0.911907</td>\n      <td>0.904320</td>\n    </tr>\n    <tr>\n      <td>2</td>\n      <td>0.143200</td>\n      <td>0.286651</td>\n      <td>0.908960</td>\n      <td>0.907517</td>\n      <td>0.922130</td>\n      <td>0.893360</td>\n    </tr>\n    <tr>\n      <td>3</td>\n      <td>0.150500</td>\n      <td>0.376581</td>\n      <td>0.911720</td>\n      <td>0.912777</td>\n      <td>0.901976</td>\n      <td>0.923840</td>\n    </tr>\n  </tbody>\n</table><p>"
          },
          "metadata": {}
        },
        {
          "name": "stderr",
          "text": "/opt/conda/lib/python3.10/site-packages/torch/nn/parallel/parallel_apply.py:79: FutureWarning: `torch.cuda.amp.autocast(args...)` is deprecated. Please use `torch.amp.autocast('cuda', args...)` instead.\n  with torch.cuda.device(device), torch.cuda.stream(stream), autocast(enabled=autocast_enabled):\n/opt/conda/lib/python3.10/site-packages/torch/nn/parallel/_functions.py:68: UserWarning: Was asked to gather along dimension 0, but all input tensors were scalars; will instead unsqueeze and return a vector.\n  warnings.warn('Was asked to gather along dimension 0, but all '\n/opt/conda/lib/python3.10/site-packages/torch/nn/parallel/parallel_apply.py:79: FutureWarning: `torch.cuda.amp.autocast(args...)` is deprecated. Please use `torch.amp.autocast('cuda', args...)` instead.\n  with torch.cuda.device(device), torch.cuda.stream(stream), autocast(enabled=autocast_enabled):\n/opt/conda/lib/python3.10/site-packages/torch/nn/parallel/_functions.py:68: UserWarning: Was asked to gather along dimension 0, but all input tensors were scalars; will instead unsqueeze and return a vector.\n  warnings.warn('Was asked to gather along dimension 0, but all '\n/opt/conda/lib/python3.10/site-packages/torch/nn/parallel/parallel_apply.py:79: FutureWarning: `torch.cuda.amp.autocast(args...)` is deprecated. Please use `torch.amp.autocast('cuda', args...)` instead.\n  with torch.cuda.device(device), torch.cuda.stream(stream), autocast(enabled=autocast_enabled):\n/opt/conda/lib/python3.10/site-packages/torch/nn/parallel/_functions.py:68: UserWarning: Was asked to gather along dimension 0, but all input tensors were scalars; will instead unsqueeze and return a vector.\n  warnings.warn('Was asked to gather along dimension 0, but all '\n",
          "output_type": "stream"
        },
        {
          "execution_count": 114,
          "output_type": "execute_result",
          "data": {
            "text/plain": "TrainOutput(global_step=4689, training_loss=0.193585661361278, metrics={'train_runtime': 5392.7927, 'train_samples_per_second': 13.907, 'train_steps_per_second': 0.869, 'total_flos': 1.9733329152e+16, 'train_loss': 0.193585661361278, 'epoch': 3.0})"
          },
          "metadata": {}
        }
      ],
      "execution_count": null
    },
    {
      "cell_type": "markdown",
      "source": [
        "# Model Evaluation 📊\n"
      ],
      "metadata": {
        "id": "RLpSLtx26lRz"
      }
    },
    {
      "cell_type": "code",
      "source": [
        "# Once training is complete, let’s evaluate the performance of our model.\n",
        "\n",
        "trainer.evaluate()"
      ],
      "metadata": {
        "id": "2pVQLY8e6sk5",
        "trusted": true,
        "execution": {
          "iopub.status.busy": "2024-11-05T15:18:35.822267Z",
          "iopub.execute_input": "2024-11-05T15:18:35.823100Z",
          "iopub.status.idle": "2024-11-05T15:26:03.921020Z",
          "shell.execute_reply.started": "2024-11-05T15:18:35.823057Z",
          "shell.execute_reply": "2024-11-05T15:26:03.920080Z"
        },
        "outputId": "fcea24aa-67cd-4a17-9ed9-00df08ecdddc"
      },
      "outputs": [
        {
          "name": "stderr",
          "text": "/opt/conda/lib/python3.10/site-packages/torch/nn/parallel/parallel_apply.py:79: FutureWarning: `torch.cuda.amp.autocast(args...)` is deprecated. Please use `torch.amp.autocast('cuda', args...)` instead.\n  with torch.cuda.device(device), torch.cuda.stream(stream), autocast(enabled=autocast_enabled):\n/opt/conda/lib/python3.10/site-packages/torch/nn/parallel/_functions.py:68: UserWarning: Was asked to gather along dimension 0, but all input tensors were scalars; will instead unsqueeze and return a vector.\n  warnings.warn('Was asked to gather along dimension 0, but all '\n",
          "output_type": "stream"
        },
        {
          "output_type": "display_data",
          "data": {
            "text/plain": "<IPython.core.display.HTML object>",
            "text/html": "\n    <div>\n      \n      <progress value='1563' max='1563' style='width:300px; height:20px; vertical-align: middle;'></progress>\n      [1563/1563 07:27]\n    </div>\n    "
          },
          "metadata": {}
        },
        {
          "execution_count": 117,
          "output_type": "execute_result",
          "data": {
            "text/plain": "{'eval_loss': 0.23477332293987274,\n 'eval_accuracy': 0.90848,\n 'eval_f1': 0.9080976863753213,\n 'eval_precision': 0.9119070667957405,\n 'eval_recall': 0.90432,\n 'eval_runtime': 448.0835,\n 'eval_samples_per_second': 55.793,\n 'eval_steps_per_second': 3.488,\n 'epoch': 3.0}"
          },
          "metadata": {}
        }
      ],
      "execution_count": null
    },
    {
      "cell_type": "markdown",
      "source": [
        "### Visualization of Evaluation Metrics 📈\n"
      ],
      "metadata": {
        "id": "hDw7pSKd8Hxz"
      }
    },
    {
      "cell_type": "code",
      "source": [
        "# Function to evaluate and visualize metrics\n",
        "def evaluate_and_visualize(trainer):\n",
        "    # Obtain metrics from trainer.evaluate()\n",
        "    metrics = trainer.evaluate()\n",
        "\n",
        "    # Select metrics to plot\n",
        "    metrics_to_plot = {k: v for k, v in metrics.items() if k not in ['eval_runtime', 'eval_samples_per_second', 'eval_steps_per_second', 'epoch']}\n",
        "\n",
        "    # Create the plot\n",
        "    plt.figure(figsize=(10, 6))\n",
        "    plt.bar(metrics_to_plot.keys(), metrics_to_plot.values(), color='skyblue')\n",
        "    plt.xlabel('Metrics')\n",
        "    plt.ylabel('Values')\n",
        "    plt.title(\"Evaluation Metrics Visualization\")\n",
        "    plt.xticks(rotation=45)\n",
        "    plt.grid(axis='y', linestyle='--', alpha=0.7)\n",
        "\n",
        "    # Add exact precision value\n",
        "    if 'eval_precision' in metrics:\n",
        "        precision_value = metrics['eval_precision']\n",
        "        plt.text('eval_precision', precision_value, f'{precision_value:.4f}', color='red', ha='center', va='bottom')\n",
        "\n",
        "    # Add exact accuracy value\n",
        "    if 'eval_accuracy' in metrics:\n",
        "        accuracy_value = metrics['eval_accuracy']\n",
        "        plt.text('eval_accuracy', accuracy_value, f'{accuracy_value:.4f}', color='red', ha='center', va='bottom')\n",
        "\n",
        "    # Show the plot\n",
        "    plt.tight_layout()\n",
        "    plt.show()\n",
        "\n",
        "# Example usage\n",
        "evaluate_and_visualize(trainer)\n"
      ],
      "metadata": {
        "colab": {
          "base_uri": "https://localhost:8080/",
          "height": 627
        },
        "id": "EI63uYYTuYuZ",
        "outputId": "93f180bc-4b8e-4398-ae2a-22601f84140c"
      },
      "execution_count": 17,
      "outputs": [
        {
          "output_type": "display_data",
          "data": {
            "text/plain": [
              "<Figure size 1000x600 with 1 Axes>"
            ],
            "image/png": "[encoded data removed]"
          },
          "metadata": {}
        }
      ]
    },
    {
      "cell_type": "markdown",
      "source": [
        "The **results** of this **BERT fine-tuning** on the **IMDB** dataset are simply outstanding 🎉! Here are the evaluation highlights:\n",
        "\n",
        "1. **Accuracy**: With an accuracy of **0.9085**, this shows that the model has effectively learned to distinguish the sentiments in movie reviews, achieving over 90% correct classifications 👍.\n",
        "   \n",
        "2. **F1 Score**: The F1 score of **0.9081** is excellent 🤩, indicating an optimal balance between precision and recall. This means the model is not only accurate but also consistent in its predictions.\n",
        "   \n",
        "3. **Precision**: With a precision value of **0.9119**, this is fantastic 🎯! This shows that when the model predicts a class, it is very often correct—a great result for minimizing false positives!\n",
        "\n",
        "4. **Recall**: A recall of **0.9043** proves that the model detects the majority of relevant examples 🚀. This helps ensure that very few examples are missed, which is crucial for a good classification model.\n",
        "\n",
        "These results show an **excellent generalization capacity of the model** after fine-tuning 📈👏."
      ],
      "metadata": {
        "id": "fe7nlGVFoi8C"
      }
    }
  ]
}